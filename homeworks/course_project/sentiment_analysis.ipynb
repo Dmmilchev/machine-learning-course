{
 "cells": [
  {
   "cell_type": "markdown",
   "id": "9d92d37b",
   "metadata": {
    "papermill": {
     "duration": 0.011067,
     "end_time": "2024-06-28T17:15:18.447735",
     "exception": false,
     "start_time": "2024-06-28T17:15:18.436668",
     "status": "completed"
    },
    "tags": []
   },
   "source": [
    "# Course project\n",
    "This is my course project for the FMI Machine learning course. I will do sentiment analysis on a IMDb dataset and try to predict if a review is positive or negative based on the text.\n",
    "The link of the dataset I use: https://www.kaggle.com/datasets/lakshmi25npathi/imdb-dataset-of-50k-movie-reviews"
   ]
  },
  {
   "cell_type": "markdown",
   "id": "43cc9697",
   "metadata": {
    "papermill": {
     "duration": 0.010049,
     "end_time": "2024-06-28T17:15:18.468268",
     "exception": false,
     "start_time": "2024-06-28T17:15:18.458219",
     "status": "completed"
    },
    "tags": []
   },
   "source": [
    "## Imports"
   ]
  },
  {
   "cell_type": "code",
   "execution_count": 1,
   "id": "1b2b433a",
   "metadata": {
    "execution": {
     "iopub.execute_input": "2024-06-28T17:15:18.490498Z",
     "iopub.status.busy": "2024-06-28T17:15:18.490143Z",
     "iopub.status.idle": "2024-06-28T17:15:33.164167Z",
     "shell.execute_reply": "2024-06-28T17:15:33.163195Z"
    },
    "papermill": {
     "duration": 14.688449,
     "end_time": "2024-06-28T17:15:33.166974",
     "exception": false,
     "start_time": "2024-06-28T17:15:18.478525",
     "status": "completed"
    },
    "tags": []
   },
   "outputs": [
    {
     "name": "stderr",
     "output_type": "stream",
     "text": [
      "2024-06-28 17:15:20.395107: E external/local_xla/xla/stream_executor/cuda/cuda_dnn.cc:9261] Unable to register cuDNN factory: Attempting to register factory for plugin cuDNN when one has already been registered\n",
      "2024-06-28 17:15:20.395215: E external/local_xla/xla/stream_executor/cuda/cuda_fft.cc:607] Unable to register cuFFT factory: Attempting to register factory for plugin cuFFT when one has already been registered\n",
      "2024-06-28 17:15:20.531975: E external/local_xla/xla/stream_executor/cuda/cuda_blas.cc:1515] Unable to register cuBLAS factory: Attempting to register factory for plugin cuBLAS when one has already been registered\n"
     ]
    }
   ],
   "source": [
    "from tensorflow.keras.utils import pad_sequences \n",
    "from tensorflow.keras.preprocessing.text import Tokenizer \n",
    "from tensorflow.keras.models import Sequential\n",
    "from tensorflow.keras.layers import Embedding, LSTM, GRU, Dense, Dropout, Bidirectional, Flatten\n",
    "from sklearn.model_selection import train_test_split \n",
    "import tensorflow as tf \n",
    "import pandas as pd \n",
    "import matplotlib.pyplot as plt \n",
    "import seaborn as sns \n",
    "import numpy as np \n",
    "  \n",
    "import re \n",
    "import nltk \n",
    "from nltk.corpus import stopwords \n",
    "from nltk.tokenize import word_tokenize \n",
    "from nltk.stem import WordNetLemmatizer \n",
    "from nltk.stem import PorterStemmer\n",
    "\n",
    "import string\n",
    "from IPython.display import display\n",
    "from scipy.stats import t\n"
   ]
  },
  {
   "cell_type": "markdown",
   "id": "8fc2ca69",
   "metadata": {
    "papermill": {
     "duration": 0.011088,
     "end_time": "2024-06-28T17:15:33.193889",
     "exception": false,
     "start_time": "2024-06-28T17:15:33.182801",
     "status": "completed"
    },
    "tags": []
   },
   "source": [
    "## Load data"
   ]
  },
  {
   "cell_type": "code",
   "execution_count": 2,
   "id": "1e88280f",
   "metadata": {
    "execution": {
     "iopub.execute_input": "2024-06-28T17:15:33.216440Z",
     "iopub.status.busy": "2024-06-28T17:15:33.215874Z",
     "iopub.status.idle": "2024-06-28T17:15:34.520771Z",
     "shell.execute_reply": "2024-06-28T17:15:34.519811Z"
    },
    "papermill": {
     "duration": 1.318601,
     "end_time": "2024-06-28T17:15:34.522895",
     "exception": false,
     "start_time": "2024-06-28T17:15:33.204294",
     "status": "completed"
    },
    "tags": []
   },
   "outputs": [
    {
     "data": {
      "text/html": [
       "<div>\n",
       "<style scoped>\n",
       "    .dataframe tbody tr th:only-of-type {\n",
       "        vertical-align: middle;\n",
       "    }\n",
       "\n",
       "    .dataframe tbody tr th {\n",
       "        vertical-align: top;\n",
       "    }\n",
       "\n",
       "    .dataframe thead th {\n",
       "        text-align: right;\n",
       "    }\n",
       "</style>\n",
       "<table border=\"1\" class=\"dataframe\">\n",
       "  <thead>\n",
       "    <tr style=\"text-align: right;\">\n",
       "      <th></th>\n",
       "      <th>review</th>\n",
       "      <th>sentiment</th>\n",
       "    </tr>\n",
       "  </thead>\n",
       "  <tbody>\n",
       "    <tr>\n",
       "      <th>0</th>\n",
       "      <td>One of the other reviewers has mentioned that ...</td>\n",
       "      <td>positive</td>\n",
       "    </tr>\n",
       "    <tr>\n",
       "      <th>1</th>\n",
       "      <td>A wonderful little production. &lt;br /&gt;&lt;br /&gt;The...</td>\n",
       "      <td>positive</td>\n",
       "    </tr>\n",
       "    <tr>\n",
       "      <th>2</th>\n",
       "      <td>I thought this was a wonderful way to spend ti...</td>\n",
       "      <td>positive</td>\n",
       "    </tr>\n",
       "    <tr>\n",
       "      <th>3</th>\n",
       "      <td>Basically there's a family where a little boy ...</td>\n",
       "      <td>negative</td>\n",
       "    </tr>\n",
       "    <tr>\n",
       "      <th>4</th>\n",
       "      <td>Petter Mattei's \"Love in the Time of Money\" is...</td>\n",
       "      <td>positive</td>\n",
       "    </tr>\n",
       "  </tbody>\n",
       "</table>\n",
       "</div>"
      ],
      "text/plain": [
       "                                              review sentiment\n",
       "0  One of the other reviewers has mentioned that ...  positive\n",
       "1  A wonderful little production. <br /><br />The...  positive\n",
       "2  I thought this was a wonderful way to spend ti...  positive\n",
       "3  Basically there's a family where a little boy ...  negative\n",
       "4  Petter Mattei's \"Love in the Time of Money\" is...  positive"
      ]
     },
     "execution_count": 2,
     "metadata": {},
     "output_type": "execute_result"
    }
   ],
   "source": [
    "data = pd.read_csv('/kaggle/input/IMDB Dataset.csv')\n",
    "data.head()"
   ]
  },
  {
   "cell_type": "markdown",
   "id": "d1633ff8",
   "metadata": {
    "papermill": {
     "duration": 0.010607,
     "end_time": "2024-06-28T17:15:34.544539",
     "exception": false,
     "start_time": "2024-06-28T17:15:34.533932",
     "status": "completed"
    },
    "tags": []
   },
   "source": [
    "## EDA"
   ]
  },
  {
   "cell_type": "code",
   "execution_count": 3,
   "id": "fd57cefa",
   "metadata": {
    "execution": {
     "iopub.execute_input": "2024-06-28T17:15:34.568427Z",
     "iopub.status.busy": "2024-06-28T17:15:34.568148Z",
     "iopub.status.idle": "2024-06-28T17:15:34.573418Z",
     "shell.execute_reply": "2024-06-28T17:15:34.572547Z"
    },
    "papermill": {
     "duration": 0.019079,
     "end_time": "2024-06-28T17:15:34.575429",
     "exception": false,
     "start_time": "2024-06-28T17:15:34.556350",
     "status": "completed"
    },
    "tags": []
   },
   "outputs": [
    {
     "data": {
      "text/plain": [
       "(50000, 2)"
      ]
     },
     "execution_count": 3,
     "metadata": {},
     "output_type": "execute_result"
    }
   ],
   "source": [
    "data.shape"
   ]
  },
  {
   "cell_type": "code",
   "execution_count": 4,
   "id": "ae2a9e5e",
   "metadata": {
    "execution": {
     "iopub.execute_input": "2024-06-28T17:15:34.597940Z",
     "iopub.status.busy": "2024-06-28T17:15:34.597681Z",
     "iopub.status.idle": "2024-06-28T17:15:34.888289Z",
     "shell.execute_reply": "2024-06-28T17:15:34.887411Z"
    },
    "papermill": {
     "duration": 0.304234,
     "end_time": "2024-06-28T17:15:34.890389",
     "exception": false,
     "start_time": "2024-06-28T17:15:34.586155",
     "status": "completed"
    },
    "tags": []
   },
   "outputs": [
    {
     "data": {
      "text/plain": [
       "<Axes: xlabel='sentiment', ylabel='count'>"
      ]
     },
     "execution_count": 4,
     "metadata": {},
     "output_type": "execute_result"
    },
    {
     "data": {
      "image/png": "[encoded data removed]",
      "text/plain": [
       "<Figure size 640x480 with 1 Axes>"
      ]
     },
     "metadata": {},
     "output_type": "display_data"
    }
   ],
   "source": [
    "sns.countplot(data=data, x='sentiment')"
   ]
  },
  {
   "cell_type": "markdown",
   "id": "e780531e",
   "metadata": {
    "papermill": {
     "duration": 0.010999,
     "end_time": "2024-06-28T17:15:34.912775",
     "exception": false,
     "start_time": "2024-06-28T17:15:34.901776",
     "status": "completed"
    },
    "tags": []
   },
   "source": [
    "Data is perfectly balanced"
   ]
  },
  {
   "cell_type": "code",
   "execution_count": 5,
   "id": "24508865",
   "metadata": {
    "execution": {
     "iopub.execute_input": "2024-06-28T17:15:34.936337Z",
     "iopub.status.busy": "2024-06-28T17:15:34.935977Z",
     "iopub.status.idle": "2024-06-28T17:15:34.945132Z",
     "shell.execute_reply": "2024-06-28T17:15:34.944273Z"
    },
    "papermill": {
     "duration": 0.023128,
     "end_time": "2024-06-28T17:15:34.947021",
     "exception": false,
     "start_time": "2024-06-28T17:15:34.923893",
     "status": "completed"
    },
    "tags": []
   },
   "outputs": [
    {
     "data": {
      "text/plain": [
       "array(['positive', 'negative'], dtype=object)"
      ]
     },
     "execution_count": 5,
     "metadata": {},
     "output_type": "execute_result"
    }
   ],
   "source": [
    "data['sentiment'].unique()"
   ]
  },
  {
   "cell_type": "markdown",
   "id": "7707f82d",
   "metadata": {
    "papermill": {
     "duration": 0.011029,
     "end_time": "2024-06-28T17:15:34.969142",
     "exception": false,
     "start_time": "2024-06-28T17:15:34.958113",
     "status": "completed"
    },
    "tags": []
   },
   "source": [
    "## Data preprocessing"
   ]
  },
  {
   "cell_type": "code",
   "execution_count": 6,
   "id": "eba3456b",
   "metadata": {
    "execution": {
     "iopub.execute_input": "2024-06-28T17:15:34.992744Z",
     "iopub.status.busy": "2024-06-28T17:15:34.992016Z",
     "iopub.status.idle": "2024-06-28T17:15:35.028318Z",
     "shell.execute_reply": "2024-06-28T17:15:35.027466Z"
    },
    "papermill": {
     "duration": 0.050062,
     "end_time": "2024-06-28T17:15:35.030218",
     "exception": false,
     "start_time": "2024-06-28T17:15:34.980156",
     "status": "completed"
    },
    "tags": []
   },
   "outputs": [],
   "source": [
    "data['sentiment'] = [1 if x == 'positive' else 0 for x in data['sentiment']]"
   ]
  },
  {
   "cell_type": "code",
   "execution_count": 7,
   "id": "4537cb7c",
   "metadata": {
    "execution": {
     "iopub.execute_input": "2024-06-28T17:15:35.053577Z",
     "iopub.status.busy": "2024-06-28T17:15:35.053316Z",
     "iopub.status.idle": "2024-06-28T17:15:35.059267Z",
     "shell.execute_reply": "2024-06-28T17:15:35.058447Z"
    },
    "papermill": {
     "duration": 0.019801,
     "end_time": "2024-06-28T17:15:35.061122",
     "exception": false,
     "start_time": "2024-06-28T17:15:35.041321",
     "status": "completed"
    },
    "tags": []
   },
   "outputs": [],
   "source": [
    "def text_preprocess(text : str) -> str:\n",
    "    text = re.sub(r'^RT[\\s]+', '', text)\n",
    "    text = re.sub(r'<br />', '', text)\n",
    "    text = text.replace(\"\\'\", \"\")\n",
    "    \n",
    "    tokens = text.split()\n",
    "    stopwords_english = stopwords.words(\"english\")\n",
    "    stemmer = PorterStemmer()\n",
    "    \n",
    "    cleaned_words = []\n",
    "\n",
    "    for x in tokens:\n",
    "        if (x not in stopwords_english and string.punctuation):\n",
    "            stem_word = stemmer.stem(x)\n",
    "            cleaned_words.append(stem_word)\n",
    "    return ' '.join(cleaned_words)"
   ]
  },
  {
   "cell_type": "code",
   "execution_count": 8,
   "id": "1fc191f7",
   "metadata": {
    "execution": {
     "iopub.execute_input": "2024-06-28T17:15:35.084713Z",
     "iopub.status.busy": "2024-06-28T17:15:35.084232Z",
     "iopub.status.idle": "2024-06-28T17:19:39.080290Z",
     "shell.execute_reply": "2024-06-28T17:19:39.079338Z"
    },
    "papermill": {
     "duration": 244.021537,
     "end_time": "2024-06-28T17:19:39.093807",
     "exception": false,
     "start_time": "2024-06-28T17:15:35.072270",
     "status": "completed"
    },
    "tags": []
   },
   "outputs": [
    {
     "data": {
      "text/plain": [
       "'probabl all-tim favorit movie, stori selflessness, sacrific dedic nobl cause, preachi boring. It never get old, despit seen 15 time last 25 years. paul luka perform bring tear eyes, bett davis, one truli sympathet roles, delight. the kid are, grandma says, like \"dressed-up midgets\" children, make fun watch. and mother slow awaken what happen world roof believ startling. If I dozen thumbs, theyd \"up\" movie.'"
      ]
     },
     "metadata": {},
     "output_type": "display_data"
    },
    {
     "data": {
      "text/plain": [
       "'Probably my all-time favorite movie, a story of selflessness, sacrifice and dedication to a noble cause, but it\\'s not preachy or boring. It just never gets old, despite my having seen it some 15 or more times in the last 25 years. Paul Lukas\\' performance brings tears to my eyes, and Bette Davis, in one of her very few truly sympathetic roles, is a delight. The kids are, as grandma says, more like \"dressed-up midgets\" than children, but that only makes them more fun to watch. And the mother\\'s slow awakening to what\\'s happening in the world and under her own roof is believable and startling. If I had a dozen thumbs, they\\'d all be \"up\" for this movie.'"
      ]
     },
     "metadata": {},
     "output_type": "display_data"
    }
   ],
   "source": [
    "data['cleaned_review'] = data['review'].apply(text_preprocess)\n",
    "display(data['cleaned_review'][5])\n",
    "display(data['review'][5])"
   ]
  },
  {
   "cell_type": "markdown",
   "id": "bdfc8b40",
   "metadata": {
    "papermill": {
     "duration": 0.011197,
     "end_time": "2024-06-28T17:19:39.116497",
     "exception": false,
     "start_time": "2024-06-28T17:19:39.105300",
     "status": "completed"
    },
    "tags": []
   },
   "source": [
    "## Split data"
   ]
  },
  {
   "cell_type": "code",
   "execution_count": 9,
   "id": "8aa5fe89",
   "metadata": {
    "execution": {
     "iopub.execute_input": "2024-06-28T17:19:39.140228Z",
     "iopub.status.busy": "2024-06-28T17:19:39.139925Z",
     "iopub.status.idle": "2024-06-28T17:19:39.151699Z",
     "shell.execute_reply": "2024-06-28T17:19:39.151000Z"
    },
    "papermill": {
     "duration": 0.025946,
     "end_time": "2024-06-28T17:19:39.153639",
     "exception": false,
     "start_time": "2024-06-28T17:19:39.127693",
     "status": "completed"
    },
    "tags": []
   },
   "outputs": [],
   "source": [
    "X = data['cleaned_review']\n",
    "y = data['sentiment']\n",
    "\n",
    "X_train, X_test, y_train, y_test = train_test_split(X, y, test_size=0.2, random_state=42)"
   ]
  },
  {
   "cell_type": "code",
   "execution_count": 10,
   "id": "33053307",
   "metadata": {
    "execution": {
     "iopub.execute_input": "2024-06-28T17:19:39.177731Z",
     "iopub.status.busy": "2024-06-28T17:19:39.177447Z",
     "iopub.status.idle": "2024-06-28T17:19:44.631884Z",
     "shell.execute_reply": "2024-06-28T17:19:44.631101Z"
    },
    "papermill": {
     "duration": 5.468923,
     "end_time": "2024-06-28T17:19:44.634175",
     "exception": false,
     "start_time": "2024-06-28T17:19:39.165252",
     "status": "completed"
    },
    "tags": []
   },
   "outputs": [],
   "source": [
    "vocab_size = 5000\n",
    "\n",
    "tokenizer = Tokenizer(num_words=vocab_size, oov_token='<OOV>')\n",
    "tokenizer.fit_on_texts(X_train)"
   ]
  },
  {
   "cell_type": "markdown",
   "id": "890a1372",
   "metadata": {
    "papermill": {
     "duration": 0.011515,
     "end_time": "2024-06-28T17:19:44.657890",
     "exception": false,
     "start_time": "2024-06-28T17:19:44.646375",
     "status": "completed"
    },
    "tags": []
   },
   "source": [
    "Fit tokenizer only on training data."
   ]
  },
  {
   "cell_type": "code",
   "execution_count": 11,
   "id": "fb639233",
   "metadata": {
    "execution": {
     "iopub.execute_input": "2024-06-28T17:19:44.682203Z",
     "iopub.status.busy": "2024-06-28T17:19:44.681691Z",
     "iopub.status.idle": "2024-06-28T17:19:49.699541Z",
     "shell.execute_reply": "2024-06-28T17:19:49.698572Z"
    },
    "papermill": {
     "duration": 5.032623,
     "end_time": "2024-06-28T17:19:49.701930",
     "exception": false,
     "start_time": "2024-06-28T17:19:44.669307",
     "status": "completed"
    },
    "tags": []
   },
   "outputs": [],
   "source": [
    "X_train_sequences = tokenizer.texts_to_sequences(X_train)\n",
    "X_test_sequences = tokenizer.texts_to_sequences(X_test)"
   ]
  },
  {
   "cell_type": "code",
   "execution_count": 12,
   "id": "8b4bd1b9",
   "metadata": {
    "execution": {
     "iopub.execute_input": "2024-06-28T17:19:49.727555Z",
     "iopub.status.busy": "2024-06-28T17:19:49.727256Z",
     "iopub.status.idle": "2024-06-28T17:19:49.732740Z",
     "shell.execute_reply": "2024-06-28T17:19:49.731911Z"
    },
    "papermill": {
     "duration": 0.020213,
     "end_time": "2024-06-28T17:19:49.734686",
     "exception": false,
     "start_time": "2024-06-28T17:19:49.714473",
     "status": "completed"
    },
    "tags": []
   },
   "outputs": [
    {
     "data": {
      "text/plain": [
       "[2, 15, 302, 17, 2]"
      ]
     },
     "execution_count": 12,
     "metadata": {},
     "output_type": "execute_result"
    }
   ],
   "source": [
    "X_train_sequences[1][:5]"
   ]
  },
  {
   "cell_type": "code",
   "execution_count": 13,
   "id": "13115f33",
   "metadata": {
    "execution": {
     "iopub.execute_input": "2024-06-28T17:19:49.758920Z",
     "iopub.status.busy": "2024-06-28T17:19:49.758651Z",
     "iopub.status.idle": "2024-06-28T17:19:49.763887Z",
     "shell.execute_reply": "2024-06-28T17:19:49.763096Z"
    },
    "papermill": {
     "duration": 0.019686,
     "end_time": "2024-06-28T17:19:49.765911",
     "exception": false,
     "start_time": "2024-06-28T17:19:49.746225",
     "status": "completed"
    },
    "tags": []
   },
   "outputs": [
    {
     "data": {
      "text/plain": [
       "93123"
      ]
     },
     "execution_count": 13,
     "metadata": {},
     "output_type": "execute_result"
    }
   ],
   "source": [
    "len(tokenizer.word_index)"
   ]
  },
  {
   "cell_type": "markdown",
   "id": "6481599d",
   "metadata": {
    "papermill": {
     "duration": 0.011411,
     "end_time": "2024-06-28T17:19:49.789267",
     "exception": false,
     "start_time": "2024-06-28T17:19:49.777856",
     "status": "completed"
    },
    "tags": []
   },
   "source": [
    "Apparently tokenizer.word_index will still shows all unique words found. That's why number of word indexes is much greater than num_words=5000"
   ]
  },
  {
   "cell_type": "code",
   "execution_count": 14,
   "id": "02c19e93",
   "metadata": {
    "execution": {
     "iopub.execute_input": "2024-06-28T17:19:49.813574Z",
     "iopub.status.busy": "2024-06-28T17:19:49.813304Z",
     "iopub.status.idle": "2024-06-28T17:19:49.818716Z",
     "shell.execute_reply": "2024-06-28T17:19:49.817904Z"
    },
    "papermill": {
     "duration": 0.019816,
     "end_time": "2024-06-28T17:19:49.820630",
     "exception": false,
     "start_time": "2024-06-28T17:19:49.800814",
     "status": "completed"
    },
    "tags": []
   },
   "outputs": [
    {
     "data": {
      "text/plain": [
       "['that i kept ask mani fights scream <OOV> swear gener mayhem <OOV> <OOV> minutes the comparison also stand think one dimension characters littl depth virtual imposs care happen them they badli written <OOV> director hang <OOV> belief on topic done much better drama tv cinema i must confess im realli one spot bad perform film must said nichola <OOV> a heroin <OOV> best friend <OOV> <OOV> a <OOV> bulli brother absolut terrible i dont know act school graduat from i id appli full <OOV> post <OOV> onli <OOV> <OOV> lead role manag impress cast so cal british talent well probabl never hear again at least that hope next time hire differ <OOV> anoth intrigu thought <OOV> fashion soundtrack featur like snow <OOV> ian brown <OOV> now im bit music fan im familiar artist <OOV> i didnt recognis track movi apart <OOV> run b <OOV> anyone we get many mani music montag <OOV> suppos feel these accompani <OOV> origin imag coupl kiss <OOV> lake <OOV> <OOV> thi problem none song convey mood <OOV> realis director lack abil carri emot journey audienc storytel dialogu alone th end presum meant <OOV> everybodi get <OOV> least one big shock store but i remain resolut <OOV> script given no on root for it enough tackl hot button issue actual give us plot hasnt alreadi done death individu window <OOV> as <OOV> film nobl failure promis lead actress mildli <OOV> punch up save bin 4 10 must tri harder']"
      ]
     },
     "execution_count": 14,
     "metadata": {},
     "output_type": "execute_result"
    }
   ],
   "source": [
    "tokenizer.sequences_to_texts(X_train_sequences[:1])"
   ]
  },
  {
   "cell_type": "markdown",
   "id": "aeff2b51",
   "metadata": {
    "papermill": {
     "duration": 0.011636,
     "end_time": "2024-06-28T17:19:49.844004",
     "exception": false,
     "start_time": "2024-06-28T17:19:49.832368",
     "status": "completed"
    },
    "tags": []
   },
   "source": [
    "## Padding"
   ]
  },
  {
   "cell_type": "code",
   "execution_count": 15,
   "id": "1e7c77de",
   "metadata": {
    "execution": {
     "iopub.execute_input": "2024-06-28T17:19:49.869038Z",
     "iopub.status.busy": "2024-06-28T17:19:49.868800Z",
     "iopub.status.idle": "2024-06-28T17:19:49.887260Z",
     "shell.execute_reply": "2024-06-28T17:19:49.886468Z"
    },
    "papermill": {
     "duration": 0.033366,
     "end_time": "2024-06-28T17:19:49.889116",
     "exception": false,
     "start_time": "2024-06-28T17:19:49.855750",
     "status": "completed"
    },
    "tags": []
   },
   "outputs": [],
   "source": [
    "lengths = list(map(len, data['review']))"
   ]
  },
  {
   "cell_type": "code",
   "execution_count": 16,
   "id": "f752a6bb",
   "metadata": {
    "execution": {
     "iopub.execute_input": "2024-06-28T17:19:49.913766Z",
     "iopub.status.busy": "2024-06-28T17:19:49.913506Z",
     "iopub.status.idle": "2024-06-28T17:19:50.632173Z",
     "shell.execute_reply": "2024-06-28T17:19:50.631267Z"
    },
    "papermill": {
     "duration": 0.733403,
     "end_time": "2024-06-28T17:19:50.634239",
     "exception": false,
     "start_time": "2024-06-28T17:19:49.900836",
     "status": "completed"
    },
    "tags": []
   },
   "outputs": [
    {
     "name": "stderr",
     "output_type": "stream",
     "text": [
      "/opt/conda/lib/python3.10/site-packages/seaborn/_oldcore.py:1119: FutureWarning: use_inf_as_na option is deprecated and will be removed in a future version. Convert inf values to NaN before operating instead.\n",
      "  with pd.option_context('mode.use_inf_as_na', True):\n"
     ]
    },
    {
     "data": {
      "text/plain": [
       "<Axes: ylabel='Count'>"
      ]
     },
     "execution_count": 16,
     "metadata": {},
     "output_type": "execute_result"
    },
    {
     "data": {
      "image/png": "[encoded data removed]",
      "text/plain": [
       "<Figure size 640x480 with 1 Axes>"
      ]
     },
     "metadata": {},
     "output_type": "display_data"
    }
   ],
   "source": [
    "sns.histplot(lengths)"
   ]
  },
  {
   "cell_type": "code",
   "execution_count": 17,
   "id": "d10377fb",
   "metadata": {
    "execution": {
     "iopub.execute_input": "2024-06-28T17:19:50.660476Z",
     "iopub.status.busy": "2024-06-28T17:19:50.659971Z",
     "iopub.status.idle": "2024-06-28T17:19:50.665954Z",
     "shell.execute_reply": "2024-06-28T17:19:50.665183Z"
    },
    "papermill": {
     "duration": 0.020899,
     "end_time": "2024-06-28T17:19:50.667728",
     "exception": false,
     "start_time": "2024-06-28T17:19:50.646829",
     "status": "completed"
    },
    "tags": []
   },
   "outputs": [
    {
     "data": {
      "text/plain": [
       "13704"
      ]
     },
     "execution_count": 17,
     "metadata": {},
     "output_type": "execute_result"
    }
   ],
   "source": [
    "max(lengths)"
   ]
  },
  {
   "cell_type": "code",
   "execution_count": 18,
   "id": "062009ed",
   "metadata": {
    "execution": {
     "iopub.execute_input": "2024-06-28T17:19:50.736665Z",
     "iopub.status.busy": "2024-06-28T17:19:50.736093Z",
     "iopub.status.idle": "2024-06-28T17:19:50.746557Z",
     "shell.execute_reply": "2024-06-28T17:19:50.745735Z"
    },
    "papermill": {
     "duration": 0.068093,
     "end_time": "2024-06-28T17:19:50.748519",
     "exception": false,
     "start_time": "2024-06-28T17:19:50.680426",
     "status": "completed"
    },
    "tags": []
   },
   "outputs": [
    {
     "data": {
      "text/plain": [
       "1309.43102"
      ]
     },
     "execution_count": 18,
     "metadata": {},
     "output_type": "execute_result"
    }
   ],
   "source": [
    "mean_len = np.mean(lengths)\n",
    "mean_len"
   ]
  },
  {
   "cell_type": "code",
   "execution_count": 19,
   "id": "9b0cfebf",
   "metadata": {
    "execution": {
     "iopub.execute_input": "2024-06-28T17:19:50.775041Z",
     "iopub.status.busy": "2024-06-28T17:19:50.774798Z",
     "iopub.status.idle": "2024-06-28T17:19:50.784966Z",
     "shell.execute_reply": "2024-06-28T17:19:50.784178Z"
    },
    "papermill": {
     "duration": 0.025449,
     "end_time": "2024-06-28T17:19:50.786855",
     "exception": false,
     "start_time": "2024-06-28T17:19:50.761406",
     "status": "completed"
    },
    "tags": []
   },
   "outputs": [
    {
     "data": {
      "text/plain": [
       "989.7181170827175"
      ]
     },
     "execution_count": 19,
     "metadata": {},
     "output_type": "execute_result"
    }
   ],
   "source": [
    "std_len = np.std(lengths)\n",
    "std_len"
   ]
  },
  {
   "cell_type": "code",
   "execution_count": 20,
   "id": "9f97f754",
   "metadata": {
    "execution": {
     "iopub.execute_input": "2024-06-28T17:19:50.813731Z",
     "iopub.status.busy": "2024-06-28T17:19:50.813279Z",
     "iopub.status.idle": "2024-06-28T17:19:50.816898Z",
     "shell.execute_reply": "2024-06-28T17:19:50.816096Z"
    },
    "papermill": {
     "duration": 0.018818,
     "end_time": "2024-06-28T17:19:50.818754",
     "exception": false,
     "start_time": "2024-06-28T17:19:50.799936",
     "status": "completed"
    },
    "tags": []
   },
   "outputs": [],
   "source": [
    "# max_len = int(mean_len + 0.5*std_len)\n",
    "max_len = 100"
   ]
  },
  {
   "cell_type": "markdown",
   "id": "f30a54aa",
   "metadata": {
    "papermill": {
     "duration": 0.012468,
     "end_time": "2024-06-28T17:19:50.843814",
     "exception": false,
     "start_time": "2024-06-28T17:19:50.831346",
     "status": "completed"
    },
    "tags": []
   },
   "source": [
    "At first I thought that it isn't a good idea of using a size of the review which is too short, because I though it might be possible for people to have biase that is usually to start a review in some way which isn't their true experience, but in the end if I was using a bigger length not only the training of the model was getting super slow, but it could not learn? Never exceeding 55%? For me this felt strange, probably max_len=100 makes it more general while a bigger length is introducing too much noise? I would like to understand why this happens!"
   ]
  },
  {
   "cell_type": "code",
   "execution_count": 21,
   "id": "a816a27d",
   "metadata": {
    "execution": {
     "iopub.execute_input": "2024-06-28T17:19:50.895643Z",
     "iopub.status.busy": "2024-06-28T17:19:50.895114Z",
     "iopub.status.idle": "2024-06-28T17:19:50.902914Z",
     "shell.execute_reply": "2024-06-28T17:19:50.902117Z"
    },
    "papermill": {
     "duration": 0.023334,
     "end_time": "2024-06-28T17:19:50.904805",
     "exception": false,
     "start_time": "2024-06-28T17:19:50.881471",
     "status": "completed"
    },
    "tags": []
   },
   "outputs": [
    {
     "data": {
      "text/plain": [
       "0.0004"
      ]
     },
     "execution_count": 21,
     "metadata": {},
     "output_type": "execute_result"
    }
   ],
   "source": [
    "len([x for x in lengths if x < max_len]) / len(lengths)\n"
   ]
  },
  {
   "cell_type": "markdown",
   "id": "7fe621d3",
   "metadata": {
    "papermill": {
     "duration": 0.012904,
     "end_time": "2024-06-28T17:19:50.930561",
     "exception": false,
     "start_time": "2024-06-28T17:19:50.917657",
     "status": "completed"
    },
    "tags": []
   },
   "source": [
    "80% of the reviews have length that is less than the mean + (0.5*standart deviation). This is the maximum length we will use. At first I tried with a longer length, but training was too slow..."
   ]
  },
  {
   "cell_type": "code",
   "execution_count": 22,
   "id": "6939a37c",
   "metadata": {
    "execution": {
     "iopub.execute_input": "2024-06-28T17:19:50.957912Z",
     "iopub.status.busy": "2024-06-28T17:19:50.957604Z",
     "iopub.status.idle": "2024-06-28T17:19:51.415621Z",
     "shell.execute_reply": "2024-06-28T17:19:51.414688Z"
    },
    "papermill": {
     "duration": 0.473755,
     "end_time": "2024-06-28T17:19:51.417656",
     "exception": false,
     "start_time": "2024-06-28T17:19:50.943901",
     "status": "completed"
    },
    "tags": []
   },
   "outputs": [
    {
     "data": {
      "text/plain": [
       "array([[ 35,   2, 770, ..., 361,  22, 187],\n",
       "       [  2,  15, 302, ...,  20, 209,   1],\n",
       "       [ 26, 536,  34, ...,   0,   0,   0],\n",
       "       ...,\n",
       "       [614,   7,   6, ...,   0,   0,   0],\n",
       "       [  9, 326, 116, ...,   0,   0,   0],\n",
       "       [  9, 514,  17, ...,   0,   0,   0]], dtype=int32)"
      ]
     },
     "execution_count": 22,
     "metadata": {},
     "output_type": "execute_result"
    }
   ],
   "source": [
    "X_train_padded_sequences = pad_sequences(X_train_sequences, maxlen=max_len, padding='post', truncating='post')\n",
    "X_test_padded_sequences = pad_sequences(X_test_sequences, maxlen=max_len, padding='post', truncating='post')\n",
    "\n",
    "X_train_padded_sequences"
   ]
  },
  {
   "cell_type": "code",
   "execution_count": 23,
   "id": "69459263",
   "metadata": {
    "execution": {
     "iopub.execute_input": "2024-06-28T17:19:51.450618Z",
     "iopub.status.busy": "2024-06-28T17:19:51.450275Z",
     "iopub.status.idle": "2024-06-28T17:19:51.470819Z",
     "shell.execute_reply": "2024-06-28T17:19:51.469775Z"
    },
    "papermill": {
     "duration": 0.039062,
     "end_time": "2024-06-28T17:19:51.472941",
     "exception": false,
     "start_time": "2024-06-28T17:19:51.433879",
     "status": "completed"
    },
    "tags": []
   },
   "outputs": [
    {
     "data": {
      "text/plain": [
       "100.0"
      ]
     },
     "execution_count": 23,
     "metadata": {},
     "output_type": "execute_result"
    }
   ],
   "source": [
    "np.mean(list(map(len, X_train_padded_sequences)))"
   ]
  },
  {
   "cell_type": "markdown",
   "id": "e6d2c549",
   "metadata": {
    "papermill": {
     "duration": 0.015286,
     "end_time": "2024-06-28T17:19:51.503772",
     "exception": false,
     "start_time": "2024-06-28T17:19:51.488486",
     "status": "completed"
    },
    "tags": []
   },
   "source": [
    "## Modelling"
   ]
  },
  {
   "cell_type": "code",
   "execution_count": 24,
   "id": "534efca0",
   "metadata": {
    "execution": {
     "iopub.execute_input": "2024-06-28T17:19:51.535801Z",
     "iopub.status.busy": "2024-06-28T17:19:51.535483Z",
     "iopub.status.idle": "2024-06-28T17:19:52.790388Z",
     "shell.execute_reply": "2024-06-28T17:19:52.789509Z"
    },
    "papermill": {
     "duration": 1.273233,
     "end_time": "2024-06-28T17:19:52.792395",
     "exception": false,
     "start_time": "2024-06-28T17:19:51.519162",
     "status": "completed"
    },
    "tags": []
   },
   "outputs": [
    {
     "name": "stderr",
     "output_type": "stream",
     "text": [
      "/opt/conda/lib/python3.10/site-packages/keras/src/layers/core/embedding.py:90: UserWarning: Argument `input_length` is deprecated. Just remove it.\n",
      "  warnings.warn(\n"
     ]
    },
    {
     "data": {
      "text/html": [
       "<pre style=\"white-space:pre;overflow-x:auto;line-height:normal;font-family:Menlo,'DejaVu Sans Mono',consolas,'Courier New',monospace\"><span style=\"font-weight: bold\">Model: \"sequential\"</span>\n",
       "</pre>\n"
      ],
      "text/plain": [
       "\u001b[1mModel: \"sequential\"\u001b[0m\n"
      ]
     },
     "metadata": {},
     "output_type": "display_data"
    },
    {
     "data": {
      "text/html": [
       "<pre style=\"white-space:pre;overflow-x:auto;line-height:normal;font-family:Menlo,'DejaVu Sans Mono',consolas,'Courier New',monospace\">┏━━━━━━━━━━━━━━━━━━━━━━━━━━━━━━━━━┳━━━━━━━━━━━━━━━━━━━━━━━━┳━━━━━━━━━━━━━━━┓\n",
       "┃<span style=\"font-weight: bold\"> Layer (type)                    </span>┃<span style=\"font-weight: bold\"> Output Shape           </span>┃<span style=\"font-weight: bold\">       Param # </span>┃\n",
       "┡━━━━━━━━━━━━━━━━━━━━━━━━━━━━━━━━━╇━━━━━━━━━━━━━━━━━━━━━━━━╇━━━━━━━━━━━━━━━┩\n",
       "│ embedding (<span style=\"color: #0087ff; text-decoration-color: #0087ff\">Embedding</span>)           │ (<span style=\"color: #00d7ff; text-decoration-color: #00d7ff\">None</span>, <span style=\"color: #00af00; text-decoration-color: #00af00\">100</span>, <span style=\"color: #00af00; text-decoration-color: #00af00\">64</span>)        │       <span style=\"color: #00af00; text-decoration-color: #00af00\">320,000</span> │\n",
       "├─────────────────────────────────┼────────────────────────┼───────────────┤\n",
       "│ lstm (<span style=\"color: #0087ff; text-decoration-color: #0087ff\">LSTM</span>)                     │ (<span style=\"color: #00d7ff; text-decoration-color: #00d7ff\">None</span>, <span style=\"color: #00af00; text-decoration-color: #00af00\">100</span>, <span style=\"color: #00af00; text-decoration-color: #00af00\">64</span>)        │        <span style=\"color: #00af00; text-decoration-color: #00af00\">33,024</span> │\n",
       "├─────────────────────────────────┼────────────────────────┼───────────────┤\n",
       "│ dropout (<span style=\"color: #0087ff; text-decoration-color: #0087ff\">Dropout</span>)               │ (<span style=\"color: #00d7ff; text-decoration-color: #00d7ff\">None</span>, <span style=\"color: #00af00; text-decoration-color: #00af00\">100</span>, <span style=\"color: #00af00; text-decoration-color: #00af00\">64</span>)        │             <span style=\"color: #00af00; text-decoration-color: #00af00\">0</span> │\n",
       "├─────────────────────────────────┼────────────────────────┼───────────────┤\n",
       "│ lstm_1 (<span style=\"color: #0087ff; text-decoration-color: #0087ff\">LSTM</span>)                   │ (<span style=\"color: #00d7ff; text-decoration-color: #00d7ff\">None</span>, <span style=\"color: #00af00; text-decoration-color: #00af00\">64</span>)             │        <span style=\"color: #00af00; text-decoration-color: #00af00\">33,024</span> │\n",
       "├─────────────────────────────────┼────────────────────────┼───────────────┤\n",
       "│ dropout_1 (<span style=\"color: #0087ff; text-decoration-color: #0087ff\">Dropout</span>)             │ (<span style=\"color: #00d7ff; text-decoration-color: #00d7ff\">None</span>, <span style=\"color: #00af00; text-decoration-color: #00af00\">64</span>)             │             <span style=\"color: #00af00; text-decoration-color: #00af00\">0</span> │\n",
       "├─────────────────────────────────┼────────────────────────┼───────────────┤\n",
       "│ dense (<span style=\"color: #0087ff; text-decoration-color: #0087ff\">Dense</span>)                   │ (<span style=\"color: #00d7ff; text-decoration-color: #00d7ff\">None</span>, <span style=\"color: #00af00; text-decoration-color: #00af00\">1</span>)              │            <span style=\"color: #00af00; text-decoration-color: #00af00\">65</span> │\n",
       "└─────────────────────────────────┴────────────────────────┴───────────────┘\n",
       "</pre>\n"
      ],
      "text/plain": [
       "┏━━━━━━━━━━━━━━━━━━━━━━━━━━━━━━━━━┳━━━━━━━━━━━━━━━━━━━━━━━━┳━━━━━━━━━━━━━━━┓\n",
       "┃\u001b[1m \u001b[0m\u001b[1mLayer (type)                   \u001b[0m\u001b[1m \u001b[0m┃\u001b[1m \u001b[0m\u001b[1mOutput Shape          \u001b[0m\u001b[1m \u001b[0m┃\u001b[1m \u001b[0m\u001b[1m      Param #\u001b[0m\u001b[1m \u001b[0m┃\n",
       "┡━━━━━━━━━━━━━━━━━━━━━━━━━━━━━━━━━╇━━━━━━━━━━━━━━━━━━━━━━━━╇━━━━━━━━━━━━━━━┩\n",
       "│ embedding (\u001b[38;5;33mEmbedding\u001b[0m)           │ (\u001b[38;5;45mNone\u001b[0m, \u001b[38;5;34m100\u001b[0m, \u001b[38;5;34m64\u001b[0m)        │       \u001b[38;5;34m320,000\u001b[0m │\n",
       "├─────────────────────────────────┼────────────────────────┼───────────────┤\n",
       "│ lstm (\u001b[38;5;33mLSTM\u001b[0m)                     │ (\u001b[38;5;45mNone\u001b[0m, \u001b[38;5;34m100\u001b[0m, \u001b[38;5;34m64\u001b[0m)        │        \u001b[38;5;34m33,024\u001b[0m │\n",
       "├─────────────────────────────────┼────────────────────────┼───────────────┤\n",
       "│ dropout (\u001b[38;5;33mDropout\u001b[0m)               │ (\u001b[38;5;45mNone\u001b[0m, \u001b[38;5;34m100\u001b[0m, \u001b[38;5;34m64\u001b[0m)        │             \u001b[38;5;34m0\u001b[0m │\n",
       "├─────────────────────────────────┼────────────────────────┼───────────────┤\n",
       "│ lstm_1 (\u001b[38;5;33mLSTM\u001b[0m)                   │ (\u001b[38;5;45mNone\u001b[0m, \u001b[38;5;34m64\u001b[0m)             │        \u001b[38;5;34m33,024\u001b[0m │\n",
       "├─────────────────────────────────┼────────────────────────┼───────────────┤\n",
       "│ dropout_1 (\u001b[38;5;33mDropout\u001b[0m)             │ (\u001b[38;5;45mNone\u001b[0m, \u001b[38;5;34m64\u001b[0m)             │             \u001b[38;5;34m0\u001b[0m │\n",
       "├─────────────────────────────────┼────────────────────────┼───────────────┤\n",
       "│ dense (\u001b[38;5;33mDense\u001b[0m)                   │ (\u001b[38;5;45mNone\u001b[0m, \u001b[38;5;34m1\u001b[0m)              │            \u001b[38;5;34m65\u001b[0m │\n",
       "└─────────────────────────────────┴────────────────────────┴───────────────┘\n"
      ]
     },
     "metadata": {},
     "output_type": "display_data"
    },
    {
     "data": {
      "text/html": [
       "<pre style=\"white-space:pre;overflow-x:auto;line-height:normal;font-family:Menlo,'DejaVu Sans Mono',consolas,'Courier New',monospace\"><span style=\"font-weight: bold\"> Total params: </span><span style=\"color: #00af00; text-decoration-color: #00af00\">386,113</span> (1.47 MB)\n",
       "</pre>\n"
      ],
      "text/plain": [
       "\u001b[1m Total params: \u001b[0m\u001b[38;5;34m386,113\u001b[0m (1.47 MB)\n"
      ]
     },
     "metadata": {},
     "output_type": "display_data"
    },
    {
     "data": {
      "text/html": [
       "<pre style=\"white-space:pre;overflow-x:auto;line-height:normal;font-family:Menlo,'DejaVu Sans Mono',consolas,'Courier New',monospace\"><span style=\"font-weight: bold\"> Trainable params: </span><span style=\"color: #00af00; text-decoration-color: #00af00\">386,113</span> (1.47 MB)\n",
       "</pre>\n"
      ],
      "text/plain": [
       "\u001b[1m Trainable params: \u001b[0m\u001b[38;5;34m386,113\u001b[0m (1.47 MB)\n"
      ]
     },
     "metadata": {},
     "output_type": "display_data"
    },
    {
     "data": {
      "text/html": [
       "<pre style=\"white-space:pre;overflow-x:auto;line-height:normal;font-family:Menlo,'DejaVu Sans Mono',consolas,'Courier New',monospace\"><span style=\"font-weight: bold\"> Non-trainable params: </span><span style=\"color: #00af00; text-decoration-color: #00af00\">0</span> (0.00 B)\n",
       "</pre>\n"
      ],
      "text/plain": [
       "\u001b[1m Non-trainable params: \u001b[0m\u001b[38;5;34m0\u001b[0m (0.00 B)\n"
      ]
     },
     "metadata": {},
     "output_type": "display_data"
    }
   ],
   "source": [
    "model = Sequential([\n",
    "    Embedding(input_dim=5000, output_dim=64, input_length=max_len),\n",
    "    LSTM(64, return_sequences=True),\n",
    "    Dropout(0.2),\n",
    "    LSTM(64),\n",
    "    Dropout(0.2),\n",
    "    Dense(1, activation = \"sigmoid\")\n",
    "])\n",
    "\n",
    "model.compile(loss='binary_crossentropy', optimizer='adam', metrics=['accuracy'])\n",
    "model.build(input_shape=(None, max_len))\n",
    "model.summary()"
   ]
  },
  {
   "cell_type": "code",
   "execution_count": 25,
   "id": "20ddb835",
   "metadata": {
    "execution": {
     "iopub.execute_input": "2024-06-28T17:19:52.822072Z",
     "iopub.status.busy": "2024-06-28T17:19:52.821792Z",
     "iopub.status.idle": "2024-06-28T17:22:47.926020Z",
     "shell.execute_reply": "2024-06-28T17:22:47.925226Z"
    },
    "papermill": {
     "duration": 175.121525,
     "end_time": "2024-06-28T17:22:47.928205",
     "exception": false,
     "start_time": "2024-06-28T17:19:52.806680",
     "status": "completed"
    },
    "tags": []
   },
   "outputs": [
    {
     "name": "stdout",
     "output_type": "stream",
     "text": [
      "Epoch 1/10\n",
      "\u001b[1m1250/1250\u001b[0m \u001b[32m━━━━━━━━━━━━━━━━━━━━\u001b[0m\u001b[37m\u001b[0m \u001b[1m22s\u001b[0m 14ms/step - accuracy: 0.5755 - loss: 0.6689 - val_accuracy: 0.7453 - val_loss: 0.5517\n",
      "Epoch 2/10\n",
      "\u001b[1m1250/1250\u001b[0m \u001b[32m━━━━━━━━━━━━━━━━━━━━\u001b[0m\u001b[37m\u001b[0m \u001b[1m17s\u001b[0m 14ms/step - accuracy: 0.7938 - loss: 0.4668 - val_accuracy: 0.8475 - val_loss: 0.3481\n",
      "Epoch 3/10\n",
      "\u001b[1m1250/1250\u001b[0m \u001b[32m━━━━━━━━━━━━━━━━━━━━\u001b[0m\u001b[37m\u001b[0m \u001b[1m17s\u001b[0m 14ms/step - accuracy: 0.8842 - loss: 0.2911 - val_accuracy: 0.8621 - val_loss: 0.3161\n",
      "Epoch 4/10\n",
      "\u001b[1m1250/1250\u001b[0m \u001b[32m━━━━━━━━━━━━━━━━━━━━\u001b[0m\u001b[37m\u001b[0m \u001b[1m17s\u001b[0m 14ms/step - accuracy: 0.9030 - loss: 0.2464 - val_accuracy: 0.8423 - val_loss: 0.3595\n",
      "Epoch 5/10\n",
      "\u001b[1m1250/1250\u001b[0m \u001b[32m━━━━━━━━━━━━━━━━━━━━\u001b[0m\u001b[37m\u001b[0m \u001b[1m17s\u001b[0m 14ms/step - accuracy: 0.9212 - loss: 0.2103 - val_accuracy: 0.8568 - val_loss: 0.3576\n",
      "Epoch 6/10\n",
      "\u001b[1m1250/1250\u001b[0m \u001b[32m━━━━━━━━━━━━━━━━━━━━\u001b[0m\u001b[37m\u001b[0m \u001b[1m17s\u001b[0m 14ms/step - accuracy: 0.9357 - loss: 0.1828 - val_accuracy: 0.8524 - val_loss: 0.3941\n",
      "Epoch 7/10\n",
      "\u001b[1m1250/1250\u001b[0m \u001b[32m━━━━━━━━━━━━━━━━━━━━\u001b[0m\u001b[37m\u001b[0m \u001b[1m17s\u001b[0m 14ms/step - accuracy: 0.9523 - loss: 0.1421 - val_accuracy: 0.8462 - val_loss: 0.4247\n",
      "Epoch 8/10\n",
      "\u001b[1m1250/1250\u001b[0m \u001b[32m━━━━━━━━━━━━━━━━━━━━\u001b[0m\u001b[37m\u001b[0m \u001b[1m17s\u001b[0m 14ms/step - accuracy: 0.9657 - loss: 0.1085 - val_accuracy: 0.8477 - val_loss: 0.4850\n",
      "Epoch 9/10\n",
      "\u001b[1m1250/1250\u001b[0m \u001b[32m━━━━━━━━━━━━━━━━━━━━\u001b[0m\u001b[37m\u001b[0m \u001b[1m17s\u001b[0m 14ms/step - accuracy: 0.9753 - loss: 0.0834 - val_accuracy: 0.8397 - val_loss: 0.5240\n",
      "Epoch 10/10\n",
      "\u001b[1m1250/1250\u001b[0m \u001b[32m━━━━━━━━━━━━━━━━━━━━\u001b[0m\u001b[37m\u001b[0m \u001b[1m17s\u001b[0m 14ms/step - accuracy: 0.9813 - loss: 0.0679 - val_accuracy: 0.8394 - val_loss: 0.5877\n"
     ]
    }
   ],
   "source": [
    "history = model.fit(X_train_padded_sequences, y_train, epochs=10, batch_size=32, validation_data=(X_test_padded_sequences, y_test))\n"
   ]
  },
  {
   "cell_type": "markdown",
   "id": "89a1f867",
   "metadata": {
    "papermill": {
     "duration": 0.21727,
     "end_time": "2024-06-28T17:22:48.367710",
     "exception": false,
     "start_time": "2024-06-28T17:22:48.150440",
     "status": "completed"
    },
    "tags": []
   },
   "source": [
    "We can easily see that there is overfitting. Validation accuracy starts declining after the 3rd epoch, while accuracy on the training set is of course growing. The best accuracy as we can see is 86% on the validation set."
   ]
  },
  {
   "cell_type": "code",
   "execution_count": 26,
   "id": "7b9d1755",
   "metadata": {
    "execution": {
     "iopub.execute_input": "2024-06-28T17:22:48.804787Z",
     "iopub.status.busy": "2024-06-28T17:22:48.804415Z",
     "iopub.status.idle": "2024-06-28T17:22:48.883802Z",
     "shell.execute_reply": "2024-06-28T17:22:48.882913Z"
    },
    "papermill": {
     "duration": 0.29862,
     "end_time": "2024-06-28T17:22:48.885708",
     "exception": false,
     "start_time": "2024-06-28T17:22:48.587088",
     "status": "completed"
    },
    "tags": []
   },
   "outputs": [
    {
     "data": {
      "text/html": [
       "<pre style=\"white-space:pre;overflow-x:auto;line-height:normal;font-family:Menlo,'DejaVu Sans Mono',consolas,'Courier New',monospace\"><span style=\"font-weight: bold\">Model: \"sequential_1\"</span>\n",
       "</pre>\n"
      ],
      "text/plain": [
       "\u001b[1mModel: \"sequential_1\"\u001b[0m\n"
      ]
     },
     "metadata": {},
     "output_type": "display_data"
    },
    {
     "data": {
      "text/html": [
       "<pre style=\"white-space:pre;overflow-x:auto;line-height:normal;font-family:Menlo,'DejaVu Sans Mono',consolas,'Courier New',monospace\">┏━━━━━━━━━━━━━━━━━━━━━━━━━━━━━━━━━┳━━━━━━━━━━━━━━━━━━━━━━━━┳━━━━━━━━━━━━━━━┓\n",
       "┃<span style=\"font-weight: bold\"> Layer (type)                    </span>┃<span style=\"font-weight: bold\"> Output Shape           </span>┃<span style=\"font-weight: bold\">       Param # </span>┃\n",
       "┡━━━━━━━━━━━━━━━━━━━━━━━━━━━━━━━━━╇━━━━━━━━━━━━━━━━━━━━━━━━╇━━━━━━━━━━━━━━━┩\n",
       "│ embedding_1 (<span style=\"color: #0087ff; text-decoration-color: #0087ff\">Embedding</span>)         │ (<span style=\"color: #00d7ff; text-decoration-color: #00d7ff\">None</span>, <span style=\"color: #00af00; text-decoration-color: #00af00\">100</span>, <span style=\"color: #00af00; text-decoration-color: #00af00\">64</span>)        │       <span style=\"color: #00af00; text-decoration-color: #00af00\">320,000</span> │\n",
       "├─────────────────────────────────┼────────────────────────┼───────────────┤\n",
       "│ bidirectional (<span style=\"color: #0087ff; text-decoration-color: #0087ff\">Bidirectional</span>)   │ (<span style=\"color: #00d7ff; text-decoration-color: #00d7ff\">None</span>, <span style=\"color: #00af00; text-decoration-color: #00af00\">100</span>, <span style=\"color: #00af00; text-decoration-color: #00af00\">128</span>)       │        <span style=\"color: #00af00; text-decoration-color: #00af00\">49,920</span> │\n",
       "├─────────────────────────────────┼────────────────────────┼───────────────┤\n",
       "│ flatten (<span style=\"color: #0087ff; text-decoration-color: #0087ff\">Flatten</span>)               │ (<span style=\"color: #00d7ff; text-decoration-color: #00d7ff\">None</span>, <span style=\"color: #00af00; text-decoration-color: #00af00\">12800</span>)          │             <span style=\"color: #00af00; text-decoration-color: #00af00\">0</span> │\n",
       "├─────────────────────────────────┼────────────────────────┼───────────────┤\n",
       "│ dense_1 (<span style=\"color: #0087ff; text-decoration-color: #0087ff\">Dense</span>)                 │ (<span style=\"color: #00d7ff; text-decoration-color: #00d7ff\">None</span>, <span style=\"color: #00af00; text-decoration-color: #00af00\">1</span>)              │        <span style=\"color: #00af00; text-decoration-color: #00af00\">12,801</span> │\n",
       "└─────────────────────────────────┴────────────────────────┴───────────────┘\n",
       "</pre>\n"
      ],
      "text/plain": [
       "┏━━━━━━━━━━━━━━━━━━━━━━━━━━━━━━━━━┳━━━━━━━━━━━━━━━━━━━━━━━━┳━━━━━━━━━━━━━━━┓\n",
       "┃\u001b[1m \u001b[0m\u001b[1mLayer (type)                   \u001b[0m\u001b[1m \u001b[0m┃\u001b[1m \u001b[0m\u001b[1mOutput Shape          \u001b[0m\u001b[1m \u001b[0m┃\u001b[1m \u001b[0m\u001b[1m      Param #\u001b[0m\u001b[1m \u001b[0m┃\n",
       "┡━━━━━━━━━━━━━━━━━━━━━━━━━━━━━━━━━╇━━━━━━━━━━━━━━━━━━━━━━━━╇━━━━━━━━━━━━━━━┩\n",
       "│ embedding_1 (\u001b[38;5;33mEmbedding\u001b[0m)         │ (\u001b[38;5;45mNone\u001b[0m, \u001b[38;5;34m100\u001b[0m, \u001b[38;5;34m64\u001b[0m)        │       \u001b[38;5;34m320,000\u001b[0m │\n",
       "├─────────────────────────────────┼────────────────────────┼───────────────┤\n",
       "│ bidirectional (\u001b[38;5;33mBidirectional\u001b[0m)   │ (\u001b[38;5;45mNone\u001b[0m, \u001b[38;5;34m100\u001b[0m, \u001b[38;5;34m128\u001b[0m)       │        \u001b[38;5;34m49,920\u001b[0m │\n",
       "├─────────────────────────────────┼────────────────────────┼───────────────┤\n",
       "│ flatten (\u001b[38;5;33mFlatten\u001b[0m)               │ (\u001b[38;5;45mNone\u001b[0m, \u001b[38;5;34m12800\u001b[0m)          │             \u001b[38;5;34m0\u001b[0m │\n",
       "├─────────────────────────────────┼────────────────────────┼───────────────┤\n",
       "│ dense_1 (\u001b[38;5;33mDense\u001b[0m)                 │ (\u001b[38;5;45mNone\u001b[0m, \u001b[38;5;34m1\u001b[0m)              │        \u001b[38;5;34m12,801\u001b[0m │\n",
       "└─────────────────────────────────┴────────────────────────┴───────────────┘\n"
      ]
     },
     "metadata": {},
     "output_type": "display_data"
    },
    {
     "data": {
      "text/html": [
       "<pre style=\"white-space:pre;overflow-x:auto;line-height:normal;font-family:Menlo,'DejaVu Sans Mono',consolas,'Courier New',monospace\"><span style=\"font-weight: bold\"> Total params: </span><span style=\"color: #00af00; text-decoration-color: #00af00\">382,721</span> (1.46 MB)\n",
       "</pre>\n"
      ],
      "text/plain": [
       "\u001b[1m Total params: \u001b[0m\u001b[38;5;34m382,721\u001b[0m (1.46 MB)\n"
      ]
     },
     "metadata": {},
     "output_type": "display_data"
    },
    {
     "data": {
      "text/html": [
       "<pre style=\"white-space:pre;overflow-x:auto;line-height:normal;font-family:Menlo,'DejaVu Sans Mono',consolas,'Courier New',monospace\"><span style=\"font-weight: bold\"> Trainable params: </span><span style=\"color: #00af00; text-decoration-color: #00af00\">382,721</span> (1.46 MB)\n",
       "</pre>\n"
      ],
      "text/plain": [
       "\u001b[1m Trainable params: \u001b[0m\u001b[38;5;34m382,721\u001b[0m (1.46 MB)\n"
      ]
     },
     "metadata": {},
     "output_type": "display_data"
    },
    {
     "data": {
      "text/html": [
       "<pre style=\"white-space:pre;overflow-x:auto;line-height:normal;font-family:Menlo,'DejaVu Sans Mono',consolas,'Courier New',monospace\"><span style=\"font-weight: bold\"> Non-trainable params: </span><span style=\"color: #00af00; text-decoration-color: #00af00\">0</span> (0.00 B)\n",
       "</pre>\n"
      ],
      "text/plain": [
       "\u001b[1m Non-trainable params: \u001b[0m\u001b[38;5;34m0\u001b[0m (0.00 B)\n"
      ]
     },
     "metadata": {},
     "output_type": "display_data"
    }
   ],
   "source": [
    "model = Sequential([\n",
    "    Embedding(input_dim=5000, output_dim=64, input_length=max_len),\n",
    "    Bidirectional(GRU(64, return_sequences=True)),\n",
    "    Flatten(),\n",
    "    Dense(1, activation='sigmoid')\n",
    "])\n",
    "\n",
    "model.compile(loss='binary_crossentropy', optimizer='adam', metrics=['accuracy'])\n",
    "model.build(input_shape=(None, max_len))\n",
    "model.summary()"
   ]
  },
  {
   "cell_type": "code",
   "execution_count": 27,
   "id": "386f5060",
   "metadata": {
    "execution": {
     "iopub.execute_input": "2024-06-28T17:22:49.324191Z",
     "iopub.status.busy": "2024-06-28T17:22:49.323820Z",
     "iopub.status.idle": "2024-06-28T17:24:11.856837Z",
     "shell.execute_reply": "2024-06-28T17:24:11.855848Z"
    },
    "papermill": {
     "duration": 82.754174,
     "end_time": "2024-06-28T17:24:11.859032",
     "exception": false,
     "start_time": "2024-06-28T17:22:49.104858",
     "status": "completed"
    },
    "tags": []
   },
   "outputs": [
    {
     "name": "stdout",
     "output_type": "stream",
     "text": [
      "Epoch 1/5\n",
      "\u001b[1m1250/1250\u001b[0m \u001b[32m━━━━━━━━━━━━━━━━━━━━\u001b[0m\u001b[37m\u001b[0m \u001b[1m18s\u001b[0m 13ms/step - accuracy: 0.7531 - loss: 0.4733 - val_accuracy: 0.8412 - val_loss: 0.3564\n",
      "Epoch 2/5\n",
      "\u001b[1m1250/1250\u001b[0m \u001b[32m━━━━━━━━━━━━━━━━━━━━\u001b[0m\u001b[37m\u001b[0m \u001b[1m16s\u001b[0m 13ms/step - accuracy: 0.8810 - loss: 0.2837 - val_accuracy: 0.8553 - val_loss: 0.3434\n",
      "Epoch 3/5\n",
      "\u001b[1m1250/1250\u001b[0m \u001b[32m━━━━━━━━━━━━━━━━━━━━\u001b[0m\u001b[37m\u001b[0m \u001b[1m16s\u001b[0m 13ms/step - accuracy: 0.9533 - loss: 0.1342 - val_accuracy: 0.8398 - val_loss: 0.4540\n",
      "Epoch 4/5\n",
      "\u001b[1m1250/1250\u001b[0m \u001b[32m━━━━━━━━━━━━━━━━━━━━\u001b[0m\u001b[37m\u001b[0m \u001b[1m16s\u001b[0m 13ms/step - accuracy: 0.9909 - loss: 0.0367 - val_accuracy: 0.8342 - val_loss: 0.6894\n",
      "Epoch 5/5\n",
      "\u001b[1m1250/1250\u001b[0m \u001b[32m━━━━━━━━━━━━━━━━━━━━\u001b[0m\u001b[37m\u001b[0m \u001b[1m16s\u001b[0m 13ms/step - accuracy: 0.9976 - loss: 0.0110 - val_accuracy: 0.8342 - val_loss: 0.8955\n"
     ]
    }
   ],
   "source": [
    "history = model.fit(X_train_padded_sequences, y_train, epochs=5, batch_size=32, validation_data=(X_test_padded_sequences, y_test))\n"
   ]
  },
  {
   "cell_type": "code",
   "execution_count": 28,
   "id": "5eb02a6d",
   "metadata": {
    "execution": {
     "iopub.execute_input": "2024-06-28T17:24:12.515634Z",
     "iopub.status.busy": "2024-06-28T17:24:12.515261Z",
     "iopub.status.idle": "2024-06-28T17:24:12.593462Z",
     "shell.execute_reply": "2024-06-28T17:24:12.592656Z"
    },
    "papermill": {
     "duration": 0.414544,
     "end_time": "2024-06-28T17:24:12.595553",
     "exception": false,
     "start_time": "2024-06-28T17:24:12.181009",
     "status": "completed"
    },
    "tags": []
   },
   "outputs": [
    {
     "data": {
      "text/html": [
       "<pre style=\"white-space:pre;overflow-x:auto;line-height:normal;font-family:Menlo,'DejaVu Sans Mono',consolas,'Courier New',monospace\"><span style=\"font-weight: bold\">Model: \"sequential_2\"</span>\n",
       "</pre>\n"
      ],
      "text/plain": [
       "\u001b[1mModel: \"sequential_2\"\u001b[0m\n"
      ]
     },
     "metadata": {},
     "output_type": "display_data"
    },
    {
     "data": {
      "text/html": [
       "<pre style=\"white-space:pre;overflow-x:auto;line-height:normal;font-family:Menlo,'DejaVu Sans Mono',consolas,'Courier New',monospace\">┏━━━━━━━━━━━━━━━━━━━━━━━━━━━━━━━━━┳━━━━━━━━━━━━━━━━━━━━━━━━┳━━━━━━━━━━━━━━━┓\n",
       "┃<span style=\"font-weight: bold\"> Layer (type)                    </span>┃<span style=\"font-weight: bold\"> Output Shape           </span>┃<span style=\"font-weight: bold\">       Param # </span>┃\n",
       "┡━━━━━━━━━━━━━━━━━━━━━━━━━━━━━━━━━╇━━━━━━━━━━━━━━━━━━━━━━━━╇━━━━━━━━━━━━━━━┩\n",
       "│ embedding_2 (<span style=\"color: #0087ff; text-decoration-color: #0087ff\">Embedding</span>)         │ (<span style=\"color: #00d7ff; text-decoration-color: #00d7ff\">None</span>, <span style=\"color: #00af00; text-decoration-color: #00af00\">100</span>, <span style=\"color: #00af00; text-decoration-color: #00af00\">64</span>)        │       <span style=\"color: #00af00; text-decoration-color: #00af00\">320,000</span> │\n",
       "├─────────────────────────────────┼────────────────────────┼───────────────┤\n",
       "│ bidirectional_1 (<span style=\"color: #0087ff; text-decoration-color: #0087ff\">Bidirectional</span>) │ (<span style=\"color: #00d7ff; text-decoration-color: #00d7ff\">None</span>, <span style=\"color: #00af00; text-decoration-color: #00af00\">100</span>, <span style=\"color: #00af00; text-decoration-color: #00af00\">128</span>)       │        <span style=\"color: #00af00; text-decoration-color: #00af00\">49,920</span> │\n",
       "├─────────────────────────────────┼────────────────────────┼───────────────┤\n",
       "│ dropout_2 (<span style=\"color: #0087ff; text-decoration-color: #0087ff\">Dropout</span>)             │ (<span style=\"color: #00d7ff; text-decoration-color: #00d7ff\">None</span>, <span style=\"color: #00af00; text-decoration-color: #00af00\">100</span>, <span style=\"color: #00af00; text-decoration-color: #00af00\">128</span>)       │             <span style=\"color: #00af00; text-decoration-color: #00af00\">0</span> │\n",
       "├─────────────────────────────────┼────────────────────────┼───────────────┤\n",
       "│ flatten_1 (<span style=\"color: #0087ff; text-decoration-color: #0087ff\">Flatten</span>)             │ (<span style=\"color: #00d7ff; text-decoration-color: #00d7ff\">None</span>, <span style=\"color: #00af00; text-decoration-color: #00af00\">12800</span>)          │             <span style=\"color: #00af00; text-decoration-color: #00af00\">0</span> │\n",
       "├─────────────────────────────────┼────────────────────────┼───────────────┤\n",
       "│ dense_2 (<span style=\"color: #0087ff; text-decoration-color: #0087ff\">Dense</span>)                 │ (<span style=\"color: #00d7ff; text-decoration-color: #00d7ff\">None</span>, <span style=\"color: #00af00; text-decoration-color: #00af00\">1</span>)              │        <span style=\"color: #00af00; text-decoration-color: #00af00\">12,801</span> │\n",
       "└─────────────────────────────────┴────────────────────────┴───────────────┘\n",
       "</pre>\n"
      ],
      "text/plain": [
       "┏━━━━━━━━━━━━━━━━━━━━━━━━━━━━━━━━━┳━━━━━━━━━━━━━━━━━━━━━━━━┳━━━━━━━━━━━━━━━┓\n",
       "┃\u001b[1m \u001b[0m\u001b[1mLayer (type)                   \u001b[0m\u001b[1m \u001b[0m┃\u001b[1m \u001b[0m\u001b[1mOutput Shape          \u001b[0m\u001b[1m \u001b[0m┃\u001b[1m \u001b[0m\u001b[1m      Param #\u001b[0m\u001b[1m \u001b[0m┃\n",
       "┡━━━━━━━━━━━━━━━━━━━━━━━━━━━━━━━━━╇━━━━━━━━━━━━━━━━━━━━━━━━╇━━━━━━━━━━━━━━━┩\n",
       "│ embedding_2 (\u001b[38;5;33mEmbedding\u001b[0m)         │ (\u001b[38;5;45mNone\u001b[0m, \u001b[38;5;34m100\u001b[0m, \u001b[38;5;34m64\u001b[0m)        │       \u001b[38;5;34m320,000\u001b[0m │\n",
       "├─────────────────────────────────┼────────────────────────┼───────────────┤\n",
       "│ bidirectional_1 (\u001b[38;5;33mBidirectional\u001b[0m) │ (\u001b[38;5;45mNone\u001b[0m, \u001b[38;5;34m100\u001b[0m, \u001b[38;5;34m128\u001b[0m)       │        \u001b[38;5;34m49,920\u001b[0m │\n",
       "├─────────────────────────────────┼────────────────────────┼───────────────┤\n",
       "│ dropout_2 (\u001b[38;5;33mDropout\u001b[0m)             │ (\u001b[38;5;45mNone\u001b[0m, \u001b[38;5;34m100\u001b[0m, \u001b[38;5;34m128\u001b[0m)       │             \u001b[38;5;34m0\u001b[0m │\n",
       "├─────────────────────────────────┼────────────────────────┼───────────────┤\n",
       "│ flatten_1 (\u001b[38;5;33mFlatten\u001b[0m)             │ (\u001b[38;5;45mNone\u001b[0m, \u001b[38;5;34m12800\u001b[0m)          │             \u001b[38;5;34m0\u001b[0m │\n",
       "├─────────────────────────────────┼────────────────────────┼───────────────┤\n",
       "│ dense_2 (\u001b[38;5;33mDense\u001b[0m)                 │ (\u001b[38;5;45mNone\u001b[0m, \u001b[38;5;34m1\u001b[0m)              │        \u001b[38;5;34m12,801\u001b[0m │\n",
       "└─────────────────────────────────┴────────────────────────┴───────────────┘\n"
      ]
     },
     "metadata": {},
     "output_type": "display_data"
    },
    {
     "data": {
      "text/html": [
       "<pre style=\"white-space:pre;overflow-x:auto;line-height:normal;font-family:Menlo,'DejaVu Sans Mono',consolas,'Courier New',monospace\"><span style=\"font-weight: bold\"> Total params: </span><span style=\"color: #00af00; text-decoration-color: #00af00\">382,721</span> (1.46 MB)\n",
       "</pre>\n"
      ],
      "text/plain": [
       "\u001b[1m Total params: \u001b[0m\u001b[38;5;34m382,721\u001b[0m (1.46 MB)\n"
      ]
     },
     "metadata": {},
     "output_type": "display_data"
    },
    {
     "data": {
      "text/html": [
       "<pre style=\"white-space:pre;overflow-x:auto;line-height:normal;font-family:Menlo,'DejaVu Sans Mono',consolas,'Courier New',monospace\"><span style=\"font-weight: bold\"> Trainable params: </span><span style=\"color: #00af00; text-decoration-color: #00af00\">382,721</span> (1.46 MB)\n",
       "</pre>\n"
      ],
      "text/plain": [
       "\u001b[1m Trainable params: \u001b[0m\u001b[38;5;34m382,721\u001b[0m (1.46 MB)\n"
      ]
     },
     "metadata": {},
     "output_type": "display_data"
    },
    {
     "data": {
      "text/html": [
       "<pre style=\"white-space:pre;overflow-x:auto;line-height:normal;font-family:Menlo,'DejaVu Sans Mono',consolas,'Courier New',monospace\"><span style=\"font-weight: bold\"> Non-trainable params: </span><span style=\"color: #00af00; text-decoration-color: #00af00\">0</span> (0.00 B)\n",
       "</pre>\n"
      ],
      "text/plain": [
       "\u001b[1m Non-trainable params: \u001b[0m\u001b[38;5;34m0\u001b[0m (0.00 B)\n"
      ]
     },
     "metadata": {},
     "output_type": "display_data"
    }
   ],
   "source": [
    "model = Sequential([\n",
    "    Embedding(input_dim=5000, output_dim=64, input_length=max_len),\n",
    "    Bidirectional(GRU(64, return_sequences=True)),\n",
    "    Dropout(0.3),\n",
    "    Flatten(),\n",
    "    Dense(1, activation='sigmoid')\n",
    "])\n",
    "\n",
    "model.compile(loss='binary_crossentropy', optimizer='adam', metrics=['accuracy'])\n",
    "model.build(input_shape=(None, max_len))\n",
    "model.summary()"
   ]
  },
  {
   "cell_type": "markdown",
   "id": "adff917d",
   "metadata": {},
   "source": [
    "Once again we can easily see that overfitting occurres after the 2nd epoch. Best accuracy on the validation set it 85%. I thought that GRU will be better for NLP than LSTM, but in the end they are pretty much the same in this task."
   ]
  },
  {
   "cell_type": "code",
   "execution_count": 29,
   "id": "efe3dd6b",
   "metadata": {
    "execution": {
     "iopub.execute_input": "2024-06-28T17:24:13.245504Z",
     "iopub.status.busy": "2024-06-28T17:24:13.245129Z",
     "iopub.status.idle": "2024-06-28T17:25:37.114259Z",
     "shell.execute_reply": "2024-06-28T17:25:37.113438Z"
    },
    "papermill": {
     "duration": 84.190855,
     "end_time": "2024-06-28T17:25:37.116283",
     "exception": false,
     "start_time": "2024-06-28T17:24:12.925428",
     "status": "completed"
    },
    "tags": []
   },
   "outputs": [
    {
     "name": "stdout",
     "output_type": "stream",
     "text": [
      "Epoch 1/5\n",
      "\u001b[1m1250/1250\u001b[0m \u001b[32m━━━━━━━━━━━━━━━━━━━━\u001b[0m\u001b[37m\u001b[0m \u001b[1m18s\u001b[0m 13ms/step - accuracy: 0.7505 - loss: 0.4706 - val_accuracy: 0.8411 - val_loss: 0.3529\n",
      "Epoch 2/5\n",
      "\u001b[1m1250/1250\u001b[0m \u001b[32m━━━━━━━━━━━━━━━━━━━━\u001b[0m\u001b[37m\u001b[0m \u001b[1m16s\u001b[0m 13ms/step - accuracy: 0.8844 - loss: 0.2787 - val_accuracy: 0.8355 - val_loss: 0.4129\n",
      "Epoch 3/5\n",
      "\u001b[1m1250/1250\u001b[0m \u001b[32m━━━━━━━━━━━━━━━━━━━━\u001b[0m\u001b[37m\u001b[0m \u001b[1m16s\u001b[0m 13ms/step - accuracy: 0.9481 - loss: 0.1420 - val_accuracy: 0.8407 - val_loss: 0.4406\n",
      "Epoch 4/5\n",
      "\u001b[1m1250/1250\u001b[0m \u001b[32m━━━━━━━━━━━━━━━━━━━━\u001b[0m\u001b[37m\u001b[0m \u001b[1m16s\u001b[0m 13ms/step - accuracy: 0.9861 - loss: 0.0468 - val_accuracy: 0.8375 - val_loss: 0.6224\n",
      "Epoch 5/5\n",
      "\u001b[1m1250/1250\u001b[0m \u001b[32m━━━━━━━━━━━━━━━━━━━━\u001b[0m\u001b[37m\u001b[0m \u001b[1m16s\u001b[0m 13ms/step - accuracy: 0.9948 - loss: 0.0180 - val_accuracy: 0.8404 - val_loss: 0.8337\n"
     ]
    }
   ],
   "source": [
    "history = model.fit(X_train_padded_sequences, y_train, epochs=5, batch_size=32, validation_data=(X_test_padded_sequences, y_test))\n"
   ]
  },
  {
   "cell_type": "markdown",
   "id": "cfb9b96c",
   "metadata": {},
   "source": [
    "I tried to use dropout to avoid overfitting and it makes some positive impact, because validation accyracy doesn't really drop until the 5th epoch, but still the model didn't perfom much better."
   ]
  }
 ],
 "metadata": {
  "kaggle": {
   "accelerator": "gpu",
   "dataSources": [
    {
     "datasetId": 134715,
     "sourceId": 320111,
     "sourceType": "datasetVersion"
    }
   ],
   "dockerImageVersionId": 30732,
   "isGpuEnabled": true,
   "isInternetEnabled": false,
   "language": "python",
   "sourceType": "notebook"
  },
  "kernelspec": {
   "display_name": "Python 3",
   "language": "python",
   "name": "python3"
  },
  "language_info": {
   "codemirror_mode": {
    "name": "ipython",
    "version": 3
   },
   "file_extension": ".py",
   "mimetype": "text/x-python",
   "name": "python",
   "nbconvert_exporter": "python",
   "pygments_lexer": "ipython3",
   "version": "3.10.13"
  },
  "papermill": {
   "default_parameters": {},
   "duration": 625.548544,
   "end_time": "2024-06-28T17:25:41.191289",
   "environment_variables": {},
   "exception": null,
   "input_path": "__notebook__.ipynb",
   "output_path": "__notebook__.ipynb",
   "parameters": {},
   "start_time": "2024-06-28T17:15:15.642745",
   "version": "2.5.0"
  }
 },
 "nbformat": 4,
 "nbformat_minor": 5
}
