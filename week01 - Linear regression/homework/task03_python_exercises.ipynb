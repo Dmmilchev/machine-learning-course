{
  "cells": [
    {
      "cell_type": "markdown",
      "metadata": {
        "id": "upSo4U9uVUcf"
      },
      "source": [
        "# Hello, Python 🐍 !\n",
        "\n",
        "<img src=\"https://www.python.org/static/community_logos/python-logo.png\" alt=\"drawing\" width=\"200\"/>\n",
        "\n",
        "The **final boss** notebook 😸!"
      ]
    },
    {
      "cell_type": "markdown",
      "metadata": {
        "id": "-Ng9POGsVgpJ"
      },
      "source": [
        "## Task 1\n",
        "\n",
        "Complete the body of the following function according to its docstring. Use a built-in function."
      ]
    },
    {
      "cell_type": "code",
      "execution_count": null,
      "metadata": {
        "colab": {
          "base_uri": "https://localhost:8080/"
        },
        "id": "JZJT_w1HVjU1",
        "outputId": "7610cf2d-2dc6-41de-d70d-ff54fcf858f5"
      },
      "outputs": [
        {
          "data": {
            "text/plain": [
              "3.14"
            ]
          },
          "execution_count": 2,
          "metadata": {},
          "output_type": "execute_result"
        }
      ],
      "source": [
        "def round_to_two_places(num):\n",
        "  \"\"\"Return the given number rounded to two decimal places.\n",
        "\n",
        "  >>> round_to_two_places(3.14159)\n",
        "  3.14\n",
        "  \"\"\"\n",
        "  return round(num, 2)\n",
        "\n",
        "round_to_two_places(3.14159)"
      ]
    },
    {
      "cell_type": "markdown",
      "metadata": {
        "id": "EU0Mod-AVqno"
      },
      "source": [
        "## Task 2\n",
        "\n",
        "Each cell below contains some commented buggy code. For each line:\n",
        "\n",
        "  1. Read the code and predict write what the bug is.\n",
        "  2. Uncomment the code and run it to see what happens (tip: You can highlight several lines and press `Ctrl + /` to toggle commenting).\n",
        "  3. Fix the code (so that it accomplishes its intended purpose without throwing an exception).\n",
        "  4. Explain what the problem was."
      ]
    },
    {
      "cell_type": "code",
      "execution_count": null,
      "metadata": {
        "colab": {
          "base_uri": "https://localhost:8080/"
        },
        "id": "SplqEVfkVvd-",
        "outputId": "c7e7512e-7795-4b71-ba68-ee0953fa0c68"
      },
      "outputs": [
        {
          "data": {
            "text/plain": [
              "10.0"
            ]
          },
          "execution_count": 3,
          "metadata": {},
          "output_type": "execute_result"
        }
      ],
      "source": [
        "round_to_two_places(9.9999)"
      ]
    },
    {
      "cell_type": "code",
      "execution_count": null,
      "metadata": {
        "colab": {
          "base_uri": "https://localhost:8080/"
        },
        "id": "-7og2XuYVyNF",
        "outputId": "ce8160f8-723f-44ab-f6ac-c940463ba74a"
      },
      "outputs": [
        {
          "data": {
            "text/plain": [
              "5"
            ]
          },
          "execution_count": 4,
          "metadata": {},
          "output_type": "execute_result"
        }
      ],
      "source": [
        "x = -10\n",
        "y = 5\n",
        "smallest_abs = min(abs(x), abs(y))\n",
        "smallest_abs # Should store and output\n",
        "# the variable with the smaller absolute value, i.e. 5."
      ]
    },
    {
      "cell_type": "code",
      "execution_count": null,
      "metadata": {
        "colab": {
          "base_uri": "https://localhost:8080/"
        },
        "id": "kXTgX9DtV1c-",
        "outputId": "e039a0ab-d1f8-4c11-d25c-1dd885880c10"
      },
      "outputs": [
        {
          "data": {
            "text/plain": [
              "3"
            ]
          },
          "execution_count": 5,
          "metadata": {},
          "output_type": "execute_result"
        }
      ],
      "source": [
        "def f(x):\n",
        "    y = abs(x)\n",
        "    return y\n",
        "f(-3)"
      ]
    },
    {
      "cell_type": "markdown",
      "metadata": {
        "id": "beSIr4doWkVZ"
      },
      "source": [
        "## Task 3\n",
        "\n",
        "Many programming languages have `sign` available as a built-in function. Python doesn't, but we can define our own!\n",
        "\n",
        "In the cell below, define **TWO** functions `is_neg_if` and `is_neg_ternary` that take a number and return `-1` if it's negative, `1` if it's positive, and `0` if it's 0. The first one should use if-then-else syntax while the second - ternary operators."
      ]
    },
    {
      "cell_type": "code",
      "execution_count": null,
      "metadata": {
        "colab": {
          "base_uri": "https://localhost:8080/"
        },
        "id": "DY27rf1NaMHP",
        "outputId": "13654fa4-a4e7-4c6d-b670-a4cf5cb1b813"
      },
      "outputs": [
        {
          "name": "stdout",
          "output_type": "stream",
          "text": [
            "-1\n",
            "-1\n"
          ]
        }
      ],
      "source": [
        "# Your code here\n",
        "def is_neg_if(x : int) -> int:\n",
        "  if x < 0:\n",
        "    return -1\n",
        "  elif x > 0:\n",
        "    return 1\n",
        "  else:\n",
        "    return 0\n",
        "\n",
        "def is_neg_ternary(x : int) -> int:\n",
        "  return 1 if x > 0 else (-1 if x < 0 else 0)\n",
        "\n",
        "print(is_neg_if(-3))\n",
        "print(is_neg_ternary(-3))"
      ]
    },
    {
      "cell_type": "code",
      "execution_count": null,
      "metadata": {
        "colab": {
          "base_uri": "https://localhost:8080/"
        },
        "id": "VpQa4SrkZ8ic",
        "outputId": "1c63602a-a75b-431e-a58f-15596104e1a7"
      },
      "outputs": [
        {
          "name": "stdout",
          "output_type": "stream",
          "text": [
            "-1\n",
            "-1\n"
          ]
        }
      ],
      "source": [
        "# Expected output"
      ]
    },
    {
      "cell_type": "markdown",
      "metadata": {
        "id": "arJQnxgyXLwH"
      },
      "source": [
        "## Task 4\n",
        "\n",
        "Modify the definition in the cell below to correct the grammar of our print statement **AND** work as described in the docstring (if there's only one candy, we should use the singular \"candy\" instead of the plural \"candies\")."
      ]
    },
    {
      "cell_type": "code",
      "execution_count": null,
      "metadata": {
        "colab": {
          "base_uri": "https://localhost:8080/"
        },
        "id": "6pjFJapBZ4IS",
        "outputId": "57dac618-1646-47e1-83bb-73aa23b8c5a7"
      },
      "outputs": [
        {
          "name": "stdout",
          "output_type": "stream",
          "text": [
            "Spliting 91 candies\n",
            "1\n",
            "Spliting 1 candy\n",
            "1\n"
          ]
        }
      ],
      "source": [
        "def to_smash(total_candies):\n",
        "  \"\"\"Return the number of leftover candies that must be smashed after distributing\n",
        "  the given number of candies evenly between 3 friends.\n",
        "\n",
        "  >>> to_smash(91)\n",
        "  Splitting 91 candies\n",
        "  1\n",
        "  >>> to_smash(1)\n",
        "  Splitting 1 candy\n",
        "  0\n",
        "  \"\"\"\n",
        "  if total_candies == 1:\n",
        "    print(f'Spliting {total_candies} candy')\n",
        "  else:\n",
        "    print(f'Spliting {total_candies} candies')\n",
        "\n",
        "  total_candies %= 3\n",
        "  return total_candies\n",
        "\n",
        "print(to_smash(91))\n",
        "print(to_smash(1))\n",
        "# I don't understand why we should return 0 if total candies = 1.\n",
        "# Splitting evenly 1 candy between 3 people, means everyone gets\n",
        "# nothing and 1 is leftover"
      ]
    },
    {
      "cell_type": "code",
      "execution_count": null,
      "metadata": {
        "colab": {
          "base_uri": "https://localhost:8080/"
        },
        "id": "ZYxL3s7Mbn-K",
        "outputId": "33e685f2-b893-454d-8212-aaf9b2616ebd"
      },
      "outputs": [
        {
          "name": "stdout",
          "output_type": "stream",
          "text": [
            "Splitting 91 candies\n",
            "1\n",
            "Splitting 1 candy\n",
            "0\n"
          ]
        }
      ],
      "source": [
        "# Expected output"
      ]
    },
    {
      "cell_type": "markdown",
      "metadata": {
        "id": "ZvQB6vwmXMbi"
      },
      "source": [
        "## Task 5\n",
        "\n",
        "The boolean variables ketchup, mustard and onion represent whether a customer wants a particular topping on their hot dog. We want to implement a number of boolean functions that correspond to some yes-or-no questions about the customer's order. For the next four functions, fill in the body to match the English description in the docstring."
      ]
    },
    {
      "cell_type": "code",
      "execution_count": null,
      "metadata": {
        "colab": {
          "base_uri": "https://localhost:8080/"
        },
        "id": "dlRmqGs-dg1s",
        "outputId": "19fb6f05-558e-4e0b-b942-c133e8b226bf"
      },
      "outputs": [
        {
          "data": {
            "text/plain": [
              "True"
            ]
          },
          "execution_count": 12,
          "metadata": {},
          "output_type": "execute_result"
        }
      ],
      "source": [
        "def onionless(ketchup, mustard, onion):\n",
        "  \"\"\"Return whether the customer doesn't want onions.\n",
        "  \"\"\"\n",
        "  return not onion\n",
        "\n",
        "onionless(1, 1, 0)"
      ]
    },
    {
      "cell_type": "code",
      "execution_count": null,
      "metadata": {
        "colab": {
          "base_uri": "https://localhost:8080/"
        },
        "id": "YKfjbjSmdig9",
        "outputId": "193bbbaa-0385-4a73-e05f-74e31d1fa1ad"
      },
      "outputs": [
        {
          "data": {
            "text/plain": [
              "1"
            ]
          },
          "execution_count": 13,
          "metadata": {},
          "output_type": "execute_result"
        }
      ],
      "source": [
        "def wants_all_toppings(ketchup, mustard, onion):\n",
        "  \"\"\"Return whether the customer wants \"the works\" (all 3 toppings).\n",
        "  \"\"\"\n",
        "  return ketchup and mustard and onion\n",
        "\n",
        "wants_all_toppings(1, 1, 1)"
      ]
    },
    {
      "cell_type": "code",
      "execution_count": null,
      "metadata": {
        "colab": {
          "base_uri": "https://localhost:8080/"
        },
        "id": "pbeYx7rXdkEW",
        "outputId": "3df6d0ae-287c-4078-b5fd-14b702f23f6d"
      },
      "outputs": [
        {
          "data": {
            "text/plain": [
              "True"
            ]
          },
          "execution_count": 14,
          "metadata": {},
          "output_type": "execute_result"
        }
      ],
      "source": [
        "def wants_plain_hotdog(ketchup, mustard, onion):\n",
        "  \"\"\"Return whether the customer wants a plain hot dog with no toppings.\n",
        "  \"\"\"\n",
        "  return not (ketchup or mustard or onion)\n",
        "  # De Morgan rule applied\n",
        "\n",
        "wants_plain_hotdog(0, 0, 0)"
      ]
    },
    {
      "cell_type": "code",
      "execution_count": null,
      "metadata": {
        "colab": {
          "base_uri": "https://localhost:8080/"
        },
        "id": "X0LW4K6odlMq",
        "outputId": "b06dcacc-305c-4b7f-ee28-9573ed06c406"
      },
      "outputs": [
        {
          "data": {
            "text/plain": [
              "True"
            ]
          },
          "execution_count": 15,
          "metadata": {},
          "output_type": "execute_result"
        }
      ],
      "source": [
        "def exactly_one_sauce(ketchup, mustard, onion):\n",
        "  \"\"\"Return whether the customer wants either ketchup or mustard, but not both.\n",
        "  (You may be familiar with this operation under the name \"exclusive or\")\n",
        "  \"\"\"\n",
        "  return ketchup != mustard\n",
        "\n",
        "exactly_one_sauce(1, 0, 1)"
      ]
    },
    {
      "cell_type": "markdown",
      "metadata": {
        "id": "Kczpm7-9XQsi"
      },
      "source": [
        "## Task 6\n",
        "\n",
        "We’ve seen that calling `bool()` on an integer returns `False` if it’s equal to 0 and `True` otherwise. What happens if we call `int()` on a bool? Feel free to try it out in the notebook cell below.\n",
        "\n",
        "Can you take advantage of this to write a succinct function that corresponds to the English sentence \"does the customer want exactly one topping?\"?"
      ]
    },
    {
      "cell_type": "code",
      "execution_count": null,
      "metadata": {
        "colab": {
          "base_uri": "https://localhost:8080/"
        },
        "id": "bj30CulEedJQ",
        "outputId": "754d1fcb-b7dd-492d-d3ae-1d989a2683d6"
      },
      "outputs": [
        {
          "data": {
            "text/plain": [
              "True"
            ]
          },
          "execution_count": 16,
          "metadata": {},
          "output_type": "execute_result"
        }
      ],
      "source": [
        "def exactly_one_topping(ketchup, mustard, onion):\n",
        "  \"\"\"Return whether the customer wants exactly one of the three available toppings\n",
        "  on their hot dog.\n",
        "  \"\"\"\n",
        "  return int(ketchup) + int(mustard) + int(onion) == 1\n",
        "\n",
        "exactly_one_topping(1, 0, 0)"
      ]
    },
    {
      "cell_type": "markdown",
      "metadata": {
        "id": "ruVAIYOAXU-N"
      },
      "source": [
        "## Task 7\n",
        "\n",
        "Complete the function according to the docstring."
      ]
    },
    {
      "cell_type": "code",
      "execution_count": 1,
      "metadata": {
        "colab": {
          "base_uri": "https://localhost:8080/"
        },
        "id": "BSsoWBrke6Zw",
        "outputId": "b29d344d-f087-4052-d6f5-ee7417eca15a"
      },
      "outputs": [
        {
          "data": {
            "text/plain": [
              "13"
            ]
          },
          "execution_count": 1,
          "metadata": {},
          "output_type": "execute_result"
        }
      ],
      "source": [
        "def select_second(l):\n",
        "  \"\"\"Return the second element of the given list. If the list has no second\n",
        "  element, return None.\n",
        "  \"\"\"\n",
        " \n",
        "  \n",
        "  return l[1] if len(l) > 1 else None\n",
        "\n",
        "select_second([12, 13, 14])"
      ]
    },
    {
      "cell_type": "markdown",
      "metadata": {
        "id": "3KeTrAEKXXr6"
      },
      "source": [
        "## Task 8\n",
        "\n",
        "You are analyzing sports teams. Members of each team are stored in a list. The Coach is the first name in the list, the captain is the second name in the list, and other players are listed after that. These lists are stored in another list, which starts with the best team and proceeds through the list to the worst team last.  Complete the function below to select the **captain** of the worst team."
      ]
    },
    {
      "cell_type": "code",
      "execution_count": null,
      "metadata": {
        "id": "3HY4HCxzfBpw"
      },
      "outputs": [],
      "source": [
        "def losing_team_captain(teams):\n",
        "  \"\"\"Given a list of teams, where each team is a list of names, return the 2nd player (captain)\n",
        "  from the last listed team\n",
        "  \"\"\"\n",
        "  return teams[-1][1]"
      ]
    },
    {
      "cell_type": "markdown",
      "metadata": {
        "id": "TvaB6AlrXaMh"
      },
      "source": [
        "## Task 9\n",
        "\n",
        "The next iteration of Mario Kart will feature an extra-infuriating new item, the *Purple Shell*. When used, it warps the last place racer into first place and the first place racer into last place. Complete the function below to implement the Purple Shell's effect.\n",
        "\n",
        "> **The solution should be on one line!**"
      ]
    },
    {
      "cell_type": "code",
      "execution_count": null,
      "metadata": {
        "colab": {
          "base_uri": "https://localhost:8080/"
        },
        "id": "OPs7E-BvfDyV",
        "outputId": "8426bf48-592d-45ee-c70b-3868d80b7940"
      },
      "outputs": [
        {
          "data": {
            "text/plain": [
              "['Luigi', 'Bowser', 'Mario']"
            ]
          },
          "execution_count": 19,
          "metadata": {},
          "output_type": "execute_result"
        }
      ],
      "source": [
        "def purple_shell(racers):\n",
        "  \"\"\"Given a list of racers, set the first place racer (at the front of the list) to last\n",
        "  place and vice versa.\n",
        "\n",
        "  >>> r = [\"Mario\", \"Bowser\", \"Luigi\"]\n",
        "  >>> purple_shell(r)\n",
        "  >>> r\n",
        "  [\"Luigi\", \"Bowser\", \"Mario\"]\n",
        "  \"\"\"\n",
        "  racers[0], racers[-1] = racers[-1], racers[0]\n",
        "\n",
        "racers = [\"Mario\", \"Bowser\", \"Luigi\"]\n",
        "purple_shell(racers)\n",
        "racers"
      ]
    },
    {
      "cell_type": "markdown",
      "metadata": {
        "id": "x3wbj9mEXdpb"
      },
      "source": [
        "## Task 10\n",
        "\n",
        "We're using lists to record people who attended our party and what order they arrived in. For example, the following list represents a party with 7 guests, in which Adela showed up first and Ford was the last to arrive:\n",
        "\n",
        "```python\n",
        "arrivals = ['Adela', 'Fleda', 'Owen', 'May', 'Mona', 'Gilbert', 'Ford']\n",
        "```\n",
        "\n",
        "A guest is considered `fashionably late` if they arrived after at least half of the party's guests. However, they must not be the very last guest. In the above example, Mona and Gilbert are the only guests who were fashionably late.\n",
        "\n",
        "Complete the function below which takes a list of party attendees as well as a person, and tells us whether that person is fashionably late."
      ]
    },
    {
      "cell_type": "code",
      "execution_count": null,
      "metadata": {
        "colab": {
          "base_uri": "https://localhost:8080/"
        },
        "id": "K-TaqrEIfIDh",
        "outputId": "a19b7155-5a25-4ce3-becd-9750b02242d8"
      },
      "outputs": [
        {
          "name": "stdout",
          "output_type": "stream",
          "text": [
            "True False False\n"
          ]
        }
      ],
      "source": [
        "arrivals = ['Adela', 'Fleda', 'Owen', 'May', 'Mona', 'Gilbert', 'Ford']\n",
        "\n",
        "def is_fashionably_late(arrivals, name):\n",
        "  \"\"\"Given an ordered list of arrivals to the party and a name, return whether the guest with that\n",
        "  name was fashionably late.\n",
        "  \"\"\"\n",
        "  how_late = arrivals.index(name)\n",
        "  return how_late > len(arrivals) / 2 and how_late != len(arrivals) - 1\n",
        "\n",
        "print(is_fashionably_late(arrivals, 'Mona'), is_fashionably_late(arrivals, 'May'), is_fashionably_late(arrivals, 'Ford'))"
      ]
    },
    {
      "cell_type": "markdown",
      "metadata": {
        "id": "RLwZi6ZLXgPl"
      },
      "source": [
        "## Task 11\n",
        "\n",
        "The following program has a bug. Try to identify the bug and fix it."
      ]
    },
    {
      "cell_type": "code",
      "execution_count": null,
      "metadata": {
        "colab": {
          "base_uri": "https://localhost:8080/"
        },
        "id": "XI0ZFVDhfK5u",
        "outputId": "cddafa31-ef10-4e57-e7eb-366be69c8c79"
      },
      "outputs": [
        {
          "data": {
            "text/plain": [
              "True"
            ]
          },
          "execution_count": 26,
          "metadata": {},
          "output_type": "execute_result"
        }
      ],
      "source": [
        "def has_lucky_number(nums):\n",
        "    \"\"\"Return whether the given list of numbers is lucky. A lucky list contains\n",
        "    at least one number divisible by 7.\n",
        "    \"\"\"\n",
        "    for num in nums:\n",
        "        if num % 7 == 0:\n",
        "            return True\n",
        "\n",
        "    return False\n",
        "has_lucky_number([6, 7 ,8])\n",
        "#the return False statement was part of the for cycle"
      ]
    },
    {
      "cell_type": "markdown",
      "metadata": {
        "id": "tBSfjekTXiZF"
      },
      "source": [
        "## Task 12\n",
        "\n",
        "Python has some libraries (like numpy and pandas) that compare each element of a list to a number (i.e. do an 'element-wise' comparison) and return a list of booleans like [False, False, True, True].\n",
        "\n",
        "Implement a function that reproduces this behaviour, returning a list of booleans corresponding to whether the corresponding element is greater than n."
      ]
    },
    {
      "cell_type": "code",
      "execution_count": null,
      "metadata": {
        "colab": {
          "base_uri": "https://localhost:8080/"
        },
        "id": "tY8X7A7hfOFI",
        "outputId": "59b60de9-2020-4c37-a245-1851688d36d3"
      },
      "outputs": [
        {
          "data": {
            "text/plain": [
              "[False, False, True, True]"
            ]
          },
          "execution_count": 28,
          "metadata": {},
          "output_type": "execute_result"
        }
      ],
      "source": [
        "def elementwise_greater_than(l, thresh):\n",
        "  \"\"\"Return a list with the same length as l, where the value at index i is\n",
        "  True if l[i] is greater than thresh, and False otherwise.\n",
        "\n",
        "  >>> elementwise_greater_than([1, 2, 3, 4], 2)\n",
        "  [False, False, True, True]\n",
        "  \"\"\"\n",
        "  return list(map(lambda x : x > thresh, l))\n",
        "elementwise_greater_than([1, 2, 3, 4], 2)"
      ]
    },
    {
      "cell_type": "markdown",
      "metadata": {
        "id": "tqRgNpLZXkUk"
      },
      "source": [
        "## Task 13\n",
        "\n",
        "Complete the body of the function below according to its docstring."
      ]
    },
    {
      "cell_type": "code",
      "execution_count": null,
      "metadata": {
        "colab": {
          "base_uri": "https://localhost:8080/"
        },
        "id": "nvMnAvYOfQbv",
        "outputId": "cc0f7a21-8873-4cf0-e86a-8a73f03019f9"
      },
      "outputs": [
        {
          "data": {
            "text/plain": [
              "False"
            ]
          },
          "execution_count": 30,
          "metadata": {},
          "output_type": "execute_result"
        }
      ],
      "source": [
        "def menu_is_boring(meals):\n",
        "  \"\"\"Given a list of meals (strings) served over some period of time, return True if the\n",
        "  same meal has ever been served two days in a row, and False otherwise.\n",
        "  \"\"\"\n",
        "  for i in range(len(meals) - 1):\n",
        "    if (meals[i]) == meals[i+1]:\n",
        "      return True\n",
        "  return False\n",
        "\n",
        "menu_is_boring(['potatoes', 'meat', 'carrots'])"
      ]
    },
    {
      "cell_type": "markdown",
      "metadata": {
        "id": "KF4C_pcQXnNL"
      },
      "source": [
        "## Task 14\n",
        "\n",
        "There is a saying that \"Data scientists spend 80% of their time cleaning data, and 20% of their time complaining about cleaning data.\" Let's see if you can write a function to help clean US zip code data. Given a string, it should return whether or not that string represents a valid zip code. For our purposes, a valid zip code is any string consisting of exactly 5 digits.\n",
        "\n",
        "HINT: `str` has a method that will be useful here. Use `help(str)` to review a list of string methods."
      ]
    },
    {
      "cell_type": "code",
      "execution_count": null,
      "metadata": {
        "colab": {
          "base_uri": "https://localhost:8080/"
        },
        "id": "hGNXdCKXfTaI",
        "outputId": "61efa66a-6954-44e9-f9c9-0b2d02d0433e"
      },
      "outputs": [
        {
          "name": "stdout",
          "output_type": "stream",
          "text": [
            "False True\n"
          ]
        }
      ],
      "source": [
        "def is_valid_zip(zip_code):\n",
        "  \"\"\"\n",
        "  Returns whether the input string is a valid (5 digit) zip code\n",
        "\n",
        "  Examples:\n",
        "  >>> is_valid_zip('1234')\n",
        "  False\n",
        "\n",
        "  >>> is_valid_zip('12345')\n",
        "  True\n",
        "  \"\"\"\n",
        "  return zip_code.isdigit() and len(zip_code) == 5 and zip_code[0] != '0'\n",
        "\n",
        "print(is_valid_zip('1234'), is_valid_zip('12345'))"
      ]
    },
    {
      "cell_type": "markdown",
      "metadata": {
        "id": "ChbVqbtYXpmz"
      },
      "source": [
        "## Task 15\n",
        "\n",
        "A researcher has gathered thousands of news articles. But she wants to focus her attention on articles including a specific word. Complete the function below to help her filter her list of articles.\n",
        "\n",
        "Your function should meet the following criteria:\n",
        "\n",
        "- Do not include documents where the keyword string shows up only as a part of a larger word. For example, if she were looking for the keyword “closed”, you would not include the string “enclosed.”\n",
        "- She does not want you to distinguish upper case from lower case letters. So the phrase “Closed the case.” would be included when the keyword is “closed”\n",
        "- Do not let periods or commas affect what is matched. “It is closed.” would be included when the keyword is “closed”. But you can assume there are no other types of punctuation."
      ]
    },
    {
      "cell_type": "code",
      "execution_count": null,
      "metadata": {
        "colab": {
          "base_uri": "https://localhost:8080/"
        },
        "id": "SscQjRSmfWcB",
        "outputId": "e3a9266e-dbd9-468d-9c79-afa54f84c0c3"
      },
      "outputs": [
        {
          "data": {
            "text/plain": [
              "[0]"
            ]
          },
          "execution_count": 37,
          "metadata": {},
          "output_type": "execute_result"
        }
      ],
      "source": [
        "import string\n",
        "\n",
        "def word_search_in_document(document : str, keyword : str) -> bool:\n",
        "    words = (document.translate(str.maketrans('', '', string.punctuation))).lower().split()\n",
        "    return keyword in words\n",
        "\n",
        "\n",
        "def word_search(doc_list, keyword):\n",
        "  \"\"\"\n",
        "  Takes a list of documents (each document is a string) and a keyword.\n",
        "  Returns list of the index values into the original list for all documents\n",
        "  containing the keyword.\n",
        "\n",
        "  Example:\n",
        "  >>> doc_list = [\"The Learn Python Challenge Casino.\", \"They bought a car\", \"Casinoville\"]\n",
        "  >>> word_search(doc_list, 'casino')\n",
        "  [0]\n",
        "  \"\"\"\n",
        "  indexes = []\n",
        "  for i in range(len(doc_list)):\n",
        "    if word_search_in_document(doc_list[i], keyword):\n",
        "      indexes.append(i)\n",
        "  return indexes\n",
        "\n",
        "word_search_in_document('The Learn Python Challenge Casino.', 'casino')\n",
        "doc_list = [\"The Learn Python Challenge Casino.\", \"They bought a car\", \"Casinoville\"]\n",
        "word_search(doc_list, 'casino')"
      ]
    },
    {
      "cell_type": "markdown",
      "metadata": {
        "id": "yZ0I-BQKXsRk"
      },
      "source": [
        "## Task 16\n",
        "\n",
        "Now the researcher wants to supply multiple keywords to search for. Complete the function below to help her.\n",
        "\n",
        "(You're encouraged to use the `word_search` function you just wrote when implementing this function. Reusing code in this way makes your programs more robust and readable - and it saves typing!)"
      ]
    },
    {
      "cell_type": "code",
      "execution_count": null,
      "metadata": {
        "colab": {
          "base_uri": "https://localhost:8080/"
        },
        "id": "bxCR9JiufZaY",
        "outputId": "2d7fd605-650a-4e50-cfb7-44a21a87b8c0"
      },
      "outputs": [
        {
          "data": {
            "text/plain": [
              "{'casino': [0, 1], 'they': [1]}"
            ]
          },
          "execution_count": 38,
          "metadata": {},
          "output_type": "execute_result"
        }
      ],
      "source": [
        "def multi_word_search(doc_list, keywords):\n",
        "  \"\"\"\n",
        "  Takes list of documents (each document is a string) and a list of keywords.\n",
        "  Returns a dictionary where each key is a keyword, and the value is a list of indices\n",
        "  (from doc_list) of the documents containing that keyword\n",
        "\n",
        "  >>> doc_list = [\"The Learn Python Challenge Casino.\", \"They bought a car and a casino\", \"Casinoville\"]\n",
        "  >>> keywords = ['casino', 'they']\n",
        "  >>> multi_word_search(doc_list, keywords)\n",
        "  {'casino': [0, 1], 'they': [1]}\n",
        "  \"\"\"\n",
        "  result = dict()\n",
        "  for keyword in keywords:\n",
        "    result[keyword] = word_search(doc_list, keyword)\n",
        "  return result\n",
        "\n",
        "doc_list = [\"The Learn Python Challenge Casino.\", \"They bought a car and a casino\", \"Casinoville\"]\n",
        "keywords = ['casino', 'they']\n",
        "multi_word_search(doc_list, keywords)"
      ]
    },
    {
      "cell_type": "markdown",
      "metadata": {
        "id": "USRDA0NpXuPj"
      },
      "source": [
        "## Task 17\n",
        "\n",
        "Given a string, return whether or not it forms a palindrome ignoring case and non-alphabetical characters.\n",
        "\n",
        "Ex: Given the following strings...\n",
        "\n",
        "```text\n",
        "\"level\", return true\n",
        "\"algorithm\", return false\n",
        "\"A man, a plan, a canal: Panama.\", return true\n",
        "```\n"
      ]
    },
    {
      "cell_type": "code",
      "execution_count": null,
      "metadata": {
        "colab": {
          "base_uri": "https://localhost:8080/"
        },
        "id": "5mPCx1RLknwT",
        "outputId": "b5aef159-9171-408a-ab82-c36738331263"
      },
      "outputs": [
        {
          "data": {
            "text/plain": [
              "True"
            ]
          },
          "execution_count": 43,
          "metadata": {},
          "output_type": "execute_result"
        }
      ],
      "source": [
        "def is_palindrome(s):\n",
        "  s = ''.join(filter(str.isalnum, s)).lower()\n",
        "  return s == s[::-1]\n",
        "is_palindrome(\"A man, a plan, a canal: Panama.\")\n"
      ]
    },
    {
      "cell_type": "markdown",
      "metadata": {
        "id": "IIWiI2HuXwq9"
      },
      "source": [
        "## Task 18\n",
        "\n",
        "Implement a function named `generate_range(min, max, step)`, which takes three arguments and generates a range of integers from min to max, with the step. The first integer is the minimum value, the second is the maximum of the range and the third is the step. `min` will always be less than max.\n",
        "\n",
        "```python\n",
        "generate_range(2, 10, 2) # should return list of [2,4,6,8,10]\n",
        "generate_range(1, 10, 3) # should return list of [1,4,7,10]\n",
        "```\n"
      ]
    },
    {
      "cell_type": "code",
      "execution_count": 2,
      "metadata": {
        "colab": {
          "base_uri": "https://localhost:8080/"
        },
        "id": "SU_kqBV2krsm",
        "outputId": "5427e3fe-ff12-4416-f40b-a13e1b873325"
      },
      "outputs": [
        {
          "data": {
            "text/plain": [
              "[1, 4, 7, 10]"
            ]
          },
          "execution_count": 2,
          "metadata": {},
          "output_type": "execute_result"
        }
      ],
      "source": [
        "\n",
        "def generate_range(min : int, max : int, step : int) -> list[int]:\n",
        "  return list(range(min, max + 1, step))\n",
        "\n",
        "#old school c-style way\n",
        "\n",
        "generate_range(2, 10, 2) # should return list of [2,4,6,8,10]\n",
        "generate_range(1, 10, 3) # should return list of [1,4,7,10]"
      ]
    },
    {
      "cell_type": "markdown",
      "metadata": {
        "id": "ooQm5djJXyoT"
      },
      "source": [
        "## Task 19\n",
        "\n",
        "Given a string representing the sequence of moves a robot vacuum makes, return whether or not it will return to its original position. The string will only contain L, R, U, and D characters, representing left, right, up, and down respectively.\n",
        "\n",
        "Ex: Given the following strings...\n",
        "\n",
        "```text\n",
        "\"LR\", return true\n",
        "\"URURD\", return false\n",
        "\"RUULLDRD\", return true\n",
        "```\n"
      ]
    },
    {
      "cell_type": "code",
      "execution_count": null,
      "metadata": {
        "colab": {
          "base_uri": "https://localhost:8080/"
        },
        "id": "2qpjfXSpkt2I",
        "outputId": "2ed13977-0efc-4848-d40e-cbf3ffffe424"
      },
      "outputs": [
        {
          "data": {
            "text/plain": [
              "True"
            ]
          },
          "execution_count": 49,
          "metadata": {},
          "output_type": "execute_result"
        }
      ],
      "source": [
        "def will_return (path : str) -> bool:\n",
        "  return path.count('U') == path.count('D') and path.count('R') == path.count('L')\n",
        "\n",
        "will_return(\"LR\")\n",
        "will_return(\"URURD\")\n",
        "will_return(\"RUULLDRD\")"
      ]
    },
    {
      "cell_type": "markdown",
      "metadata": {
        "id": "J4dScHp4X1AV"
      },
      "source": [
        "## Task 20\n",
        "\n",
        "Given a array of numbers representing the stock prices of a company in chronological order, write a function that calculates the maximum profit you could have made from buying and selling that stock once. You must buy before you can sell it.\n",
        "\n",
        "For example, given [9, 11, 8, 5, 7, 10], you should return 5, since you could buy the stock at 5 dollars and sell it at 10 dollars.\n",
        "\n",
        "Test cases:\n",
        "\n",
        "```python\n",
        "max_profit([7, 1, 5, 3, 6, 4]) # => 5\n",
        "max_profit([7, 6, 4, 3, 1]) # => 0\n",
        "max_profit([2, 4, 1]) # => 2\n",
        "max_profit([3, 2, 6, 5, 0], 6) # => 4\n",
        "max_profit([2, 1]) # => 0\n",
        "max_profit([2, 1, 2, 1, 0, 0, 1]) # => 1\n",
        "```"
      ]
    },
    {
      "cell_type": "code",
      "execution_count": 3,
      "metadata": {
        "colab": {
          "base_uri": "https://localhost:8080/"
        },
        "id": "xUqH8uqJnnCZ",
        "outputId": "dc08f513-30b3-4487-a2fc-ed64440cdacc"
      },
      "outputs": [
        {
          "data": {
            "text/plain": [
              "1"
            ]
          },
          "execution_count": 3,
          "metadata": {},
          "output_type": "execute_result"
        }
      ],
      "source": [
        "def max_profit(prices):\n",
        "    if len(prices) <= 1:\n",
        "        return 0\n",
        "    profit = 0\n",
        "    low = prices[0]\n",
        "    for i in range(1,len(prices)):\n",
        "        if prices[i] < low:\n",
        "            low = prices[i]\n",
        "        else:\n",
        "            profit = max(prices[i]-low, profit)\n",
        "    return profit\n",
        "\n",
        "max_profit([7, 1, 5, 3, 6, 4]) # => 5\n",
        "max_profit([7, 6, 4, 3, 1]) # => 0\n",
        "max_profit([2, 4, 1]) # => 2\n",
        "max_profit([3, 2, 6, 5, 0]) # => 4\n",
        "max_profit([2, 1]) # => 0\n",
        "max_profit([2, 1, 2, 1, 0, 0, 1]) # => 1"
      ]
    },
    {
      "cell_type": "markdown",
      "metadata": {
        "id": "60xVIEc-VKK2"
      },
      "source": [
        "## Task 21\n",
        "\n",
        "Let us begin with an example:\n",
        "\n",
        "Take a number: `56789`. Rotate left, you get `67895`.\n",
        "\n",
        "Keep the first digit in place and rotate left the other digits: `68957`.\n",
        "\n",
        "Keep the first two digits in place and rotate the other ones: `68579`.\n",
        "\n",
        "Keep the first three digits and rotate left the rest: `68597`. Now it is over since keeping the first four it remains only one digit which rotated is itself.\n",
        "\n",
        "You have the following sequence of numbers:\n",
        "\n",
        "`56789 -> 67895 -> 68957 -> 68579 -> 68597`\n",
        "\n",
        "and you must return the greatest: `68957`.\n",
        "\n",
        "Write function which given a positive integer `n` returns the maximum number you got doing rotations similar to the above example."
      ]
    },
    {
      "cell_type": "code",
      "execution_count": null,
      "metadata": {
        "colab": {
          "base_uri": "https://localhost:8080/"
        },
        "id": "MO9yNEUnvyN4",
        "outputId": "87a63447-9a52-4762-f0f8-32f924ebba8b"
      },
      "outputs": [
        {
          "data": {
            "text/plain": [
              "68957"
            ]
          },
          "execution_count": 64,
          "metadata": {},
          "output_type": "execute_result"
        }
      ],
      "source": [
        "def rotate(number : str, digits_to_ignore : int) -> None:\n",
        "  digit = number[digits_to_ignore]\n",
        "  number_list = list(number)\n",
        "\n",
        "  for i in range(digits_to_ignore, len(number) -1):\n",
        "    number_list[i] = number_list[i + 1]\n",
        "\n",
        "  number_list[-1] = digit\n",
        "  return ''.join(number_list)\n",
        "\n",
        "def max_rotation(number : int) -> int:\n",
        "  number_str = str(number)\n",
        "  max_rotation = number\n",
        "\n",
        "  for i in range(len(number_str)):\n",
        "    number_str = rotate(number_str, i)\n",
        "    max_rotation = max(max_rotation, int(number_str))\n",
        "\n",
        "  return max_rotation\n",
        "\n",
        "number = '56789'\n",
        "max_rotation(int(number))\n"
      ]
    }
  ],
  "metadata": {
    "colab": {
      "provenance": [],
      "toc_visible": true
    },
    "kernelspec": {
      "display_name": "Python 3",
      "name": "python3"
    },
    "language_info": {
      "codemirror_mode": {
        "name": "ipython",
        "version": 3
      },
      "file_extension": ".py",
      "mimetype": "text/x-python",
      "name": "python",
      "nbconvert_exporter": "python",
      "pygments_lexer": "ipython3",
      "version": "3.10.12"
    }
  },
  "nbformat": 4,
  "nbformat_minor": 0
}
