{
  "cells": [
    {
      "cell_type": "markdown",
      "metadata": {
        "id": "-JsfzlbFE3A3"
      },
      "source": [
        "#### 1. Import NumPy\n",
        "\n",
        "Make sure to follow the conventions!"
      ]
    },
    {
      "cell_type": "code",
      "execution_count": 2,
      "metadata": {
        "collapsed": true,
        "id": "-KFBDcZ5E3A6"
      },
      "outputs": [],
      "source": [
        "import  numpy as np"
      ]
    },
    {
      "cell_type": "markdown",
      "metadata": {
        "id": "YepvzR5qE3A9"
      },
      "source": [
        "#### 2. Create an array of 10 zeros"
      ]
    },
    {
      "cell_type": "code",
      "execution_count": null,
      "metadata": {
        "colab": {
          "base_uri": "https://localhost:8080/"
        },
        "collapsed": true,
        "id": "x5RpxdUGE3A_",
        "outputId": "8ecbfdf0-8fcf-445c-9606-07b545d09b71"
      },
      "outputs": [
        {
          "data": {
            "text/plain": [
              "array([0., 0., 0., 0., 0., 0., 0., 0., 0., 0.])"
            ]
          },
          "execution_count": 2,
          "metadata": {},
          "output_type": "execute_result"
        }
      ],
      "source": [
        "np.zeros(10)"
      ]
    },
    {
      "cell_type": "code",
      "execution_count": null,
      "metadata": {
        "id": "678qkOw9E3BD",
        "outputId": "f14cc7bc-f524-43c5-ab2d-f5df9257c246"
      },
      "outputs": [
        {
          "data": {
            "text/plain": [
              "array([0., 0., 0., 0., 0., 0., 0., 0., 0., 0.])"
            ]
          },
          "execution_count": 2,
          "metadata": {},
          "output_type": "execute_result"
        }
      ],
      "source": [
        "# Expected output"
      ]
    },
    {
      "cell_type": "markdown",
      "metadata": {
        "id": "CKl8Et_hE3BG"
      },
      "source": [
        "#### 3. Create an array of 10 ones"
      ]
    },
    {
      "cell_type": "code",
      "execution_count": null,
      "metadata": {
        "colab": {
          "base_uri": "https://localhost:8080/"
        },
        "collapsed": true,
        "id": "c3V8A17lE3BI",
        "outputId": "b9dc189e-3f7d-416c-a87f-a617656a6707"
      },
      "outputs": [
        {
          "data": {
            "text/plain": [
              "array([1., 1., 1., 1., 1., 1., 1., 1., 1., 1.])"
            ]
          },
          "execution_count": 3,
          "metadata": {},
          "output_type": "execute_result"
        }
      ],
      "source": [
        "np.ones(10)"
      ]
    },
    {
      "cell_type": "code",
      "execution_count": null,
      "metadata": {
        "id": "6XIyS1ITE3BJ",
        "outputId": "1db0dae0-1860-4e33-ac17-4891a1610468"
      },
      "outputs": [
        {
          "data": {
            "text/plain": [
              "array([1., 1., 1., 1., 1., 1., 1., 1., 1., 1.])"
            ]
          },
          "execution_count": 3,
          "metadata": {},
          "output_type": "execute_result"
        }
      ],
      "source": [
        "# Expected output"
      ]
    },
    {
      "cell_type": "markdown",
      "metadata": {
        "id": "T5w7aq-tE3BM"
      },
      "source": [
        "#### 4. Create an array of 10 fives"
      ]
    },
    {
      "cell_type": "code",
      "execution_count": null,
      "metadata": {
        "colab": {
          "base_uri": "https://localhost:8080/"
        },
        "collapsed": true,
        "id": "wdM1NW3sE3BO",
        "outputId": "f8d39057-05d7-4ffe-981a-e52ca103e0dc"
      },
      "outputs": [
        {
          "data": {
            "text/plain": [
              "array([5, 5, 5, 5, 5, 5, 5, 5, 5, 5])"
            ]
          },
          "execution_count": 4,
          "metadata": {},
          "output_type": "execute_result"
        }
      ],
      "source": [
        "np.full(10, 5)"
      ]
    },
    {
      "cell_type": "code",
      "execution_count": null,
      "metadata": {
        "id": "374mrGGbE3BP",
        "outputId": "c76b7483-1625-4d0e-f85b-74b2ca71b974"
      },
      "outputs": [
        {
          "data": {
            "text/plain": [
              "array([5., 5., 5., 5., 5., 5., 5., 5., 5., 5.])"
            ]
          },
          "execution_count": 4,
          "metadata": {},
          "output_type": "execute_result"
        }
      ],
      "source": [
        "# Expected output"
      ]
    },
    {
      "cell_type": "markdown",
      "metadata": {
        "id": "hLChAScS6hHG"
      },
      "source": [
        "#### 5. Create a vector, named `arr`, of 10 zeros the fifth value of which is 1."
      ]
    },
    {
      "cell_type": "code",
      "execution_count": null,
      "metadata": {
        "colab": {
          "base_uri": "https://localhost:8080/"
        },
        "id": "Nj0b1JE17SBr",
        "outputId": "f5e5c173-71ae-4c15-a274-279a92c5f12e"
      },
      "outputs": [
        {
          "name": "stdout",
          "output_type": "stream",
          "text": [
            "[0. 0. 0. 0. 1. 0. 0. 0. 0. 0.]\n"
          ]
        }
      ],
      "source": [
        "arr = np.zeros(10)\n",
        "arr[4] = 1\n",
        "print(arr)"
      ]
    },
    {
      "cell_type": "code",
      "execution_count": null,
      "metadata": {
        "colab": {
          "base_uri": "https://localhost:8080/"
        },
        "id": "Nm5kTOOH6fDk",
        "outputId": "845b883d-3640-44e5-8caf-d967d77ac259"
      },
      "outputs": [
        {
          "data": {
            "text/plain": [
              "array([0., 0., 0., 0., 1., 0., 0., 0., 0., 0.])"
            ]
          },
          "execution_count": 3,
          "metadata": {},
          "output_type": "execute_result"
        }
      ],
      "source": [
        "# Expected output"
      ]
    },
    {
      "cell_type": "markdown",
      "metadata": {
        "id": "UJXu8y8PE3BU"
      },
      "source": [
        "#### 6. Create an array of the integers from 10 to 50"
      ]
    },
    {
      "cell_type": "code",
      "execution_count": null,
      "metadata": {
        "colab": {
          "base_uri": "https://localhost:8080/"
        },
        "collapsed": true,
        "id": "e4Aqcu66E3BW",
        "outputId": "1efae007-1f7c-486b-8c50-d7f516ac7bf6"
      },
      "outputs": [
        {
          "data": {
            "text/plain": [
              "array([10, 11, 12, 13, 14, 15, 16, 17, 18, 19, 20, 21, 22, 23, 24, 25, 26,\n",
              "       27, 28, 29, 30, 31, 32, 33, 34, 35, 36, 37, 38, 39, 40, 41, 42, 43,\n",
              "       44, 45, 46, 47, 48, 49, 50])"
            ]
          },
          "execution_count": 10,
          "metadata": {},
          "output_type": "execute_result"
        }
      ],
      "source": [
        "np.arange(10, 51)"
      ]
    },
    {
      "cell_type": "code",
      "execution_count": null,
      "metadata": {
        "id": "eIJP50wgE3BW",
        "outputId": "dbd75d65-e088-4c0b-f18f-449a3fa9b0a4"
      },
      "outputs": [
        {
          "data": {
            "text/plain": [
              "array([10, 11, 12, 13, 14, 15, 16, 17, 18, 19, 20, 21, 22, 23, 24, 25, 26,\n",
              "       27, 28, 29, 30, 31, 32, 33, 34, 35, 36, 37, 38, 39, 40, 41, 42, 43,\n",
              "       44, 45, 46, 47, 48, 49, 50])"
            ]
          },
          "execution_count": 5,
          "metadata": {},
          "output_type": "execute_result"
        }
      ],
      "source": [
        "# Expected output"
      ]
    },
    {
      "cell_type": "markdown",
      "metadata": {
        "id": "ntJf6Yvw7qPf"
      },
      "source": [
        "#### 7. Reverse an array in **TWO** ways: using 'the Python way' and using a NumPy function"
      ]
    },
    {
      "cell_type": "code",
      "execution_count": null,
      "metadata": {
        "colab": {
          "base_uri": "https://localhost:8080/"
        },
        "id": "48YRS8FT8R71",
        "outputId": "a1a60db0-8d5d-4685-c404-625571b65a38"
      },
      "outputs": [
        {
          "name": "stdout",
          "output_type": "stream",
          "text": [
            "[3 2 1]\n",
            "[3 2 1]\n"
          ]
        }
      ],
      "source": [
        "arr = np.array([1, 2, 3])\n",
        "print(arr[::-1])\n",
        "print(np.flip(arr))\n",
        "# Your code here"
      ]
    },
    {
      "cell_type": "code",
      "execution_count": null,
      "metadata": {
        "colab": {
          "base_uri": "https://localhost:8080/"
        },
        "id": "JTxb_NWQ7qph",
        "outputId": "87e8d92a-988b-407b-f62c-17a37eb7bf4b"
      },
      "outputs": [
        {
          "name": "stdout",
          "output_type": "stream",
          "text": [
            "Using the Python way: [3 2 1]\n",
            "Using a NumPy function: [3 2 1]\n"
          ]
        }
      ],
      "source": [
        "# Expected output"
      ]
    },
    {
      "cell_type": "markdown",
      "metadata": {
        "id": "j2cdByl9A2az"
      },
      "source": [
        "#### 8. Create a 5x5 array with 1 on the border and 0 inside"
      ]
    },
    {
      "cell_type": "code",
      "execution_count": null,
      "metadata": {
        "colab": {
          "base_uri": "https://localhost:8080/"
        },
        "id": "AWKbpFQcBdGT",
        "outputId": "40b5de9e-0483-41cd-ae72-32750aa627ce"
      },
      "outputs": [
        {
          "name": "stdout",
          "output_type": "stream",
          "text": [
            "[[1. 1. 1. 1. 1.]\n",
            " [1. 0. 0. 0. 1.]\n",
            " [1. 0. 0. 0. 1.]\n",
            " [1. 0. 0. 0. 1.]\n",
            " [1. 1. 1. 1. 1.]]\n"
          ]
        }
      ],
      "source": [
        "arr = np.ones((5, 5))\n",
        "arr[1:-1, 1:-1] = 0\n",
        "print(arr)"
      ]
    },
    {
      "cell_type": "code",
      "execution_count": null,
      "metadata": {
        "colab": {
          "base_uri": "https://localhost:8080/"
        },
        "id": "AfLBcU-pA2u-",
        "outputId": "a50dc7ad-a163-4bcb-8fed-94945625285f"
      },
      "outputs": [
        {
          "data": {
            "text/plain": [
              "array([[1., 1., 1., 1., 1.],\n",
              "       [1., 0., 0., 0., 1.],\n",
              "       [1., 0., 0., 0., 1.],\n",
              "       [1., 0., 0., 0., 1.],\n",
              "       [1., 1., 1., 1., 1.]])"
            ]
          },
          "execution_count": 20,
          "metadata": {},
          "output_type": "execute_result"
        }
      ],
      "source": [
        "# Expected output"
      ]
    },
    {
      "cell_type": "markdown",
      "metadata": {
        "id": "kVEGLnbvBM7n"
      },
      "source": [
        "#### 9. Add a border filled with 0's on the two sides of an array.\n",
        "\n",
        "> Hint: [np.pad](https://numpy.org/doc/stable/reference/generated/numpy.pad.html)"
      ]
    },
    {
      "cell_type": "code",
      "execution_count": null,
      "metadata": {
        "colab": {
          "base_uri": "https://localhost:8080/"
        },
        "id": "Ngcnwk3TBf5C",
        "outputId": "8074a554-779d-4a98-cb66-ffed5b7f9a9c"
      },
      "outputs": [
        {
          "name": "stdout",
          "output_type": "stream",
          "text": [
            "[0 1 2 3 0]\n"
          ]
        }
      ],
      "source": [
        "arr = np.array([1, 2, 3])\n",
        "arr = np.pad(arr, 1)\n",
        "print(arr)\n"
      ]
    },
    {
      "cell_type": "code",
      "execution_count": null,
      "metadata": {
        "colab": {
          "base_uri": "https://localhost:8080/"
        },
        "id": "YOl3fb2DBNPJ",
        "outputId": "552be39d-2e8d-45d2-cd0a-892ad6867dfa"
      },
      "outputs": [
        {
          "data": {
            "text/plain": [
              "array([0, 1, 2, 3, 0])"
            ]
          },
          "execution_count": 21,
          "metadata": {},
          "output_type": "execute_result"
        }
      ],
      "source": [
        "# Expected output"
      ]
    },
    {
      "cell_type": "markdown",
      "metadata": {
        "id": "wxWKE-vBE3BY"
      },
      "source": [
        "#### 10. Create an array of all the even integers from 10 to 50"
      ]
    },
    {
      "cell_type": "code",
      "execution_count": null,
      "metadata": {
        "colab": {
          "base_uri": "https://localhost:8080/"
        },
        "collapsed": true,
        "id": "Qcc9NI7LE3Bb",
        "outputId": "5cced19e-07c5-43e4-d624-8c1c5aa50a3d"
      },
      "outputs": [
        {
          "data": {
            "text/plain": [
              "array([10, 12, 14, 16, 18, 20, 22, 24, 26, 28, 30, 32, 34, 36, 38, 40, 42,\n",
              "       44, 46, 48, 50])"
            ]
          },
          "execution_count": 25,
          "metadata": {},
          "output_type": "execute_result"
        }
      ],
      "source": [
        "np.arange(10, 51, 2)"
      ]
    },
    {
      "cell_type": "code",
      "execution_count": null,
      "metadata": {
        "id": "295MCnOYE3Bb",
        "outputId": "41cf43f3-92c4-436f-cc21-86bb0e0234a0"
      },
      "outputs": [
        {
          "data": {
            "text/plain": [
              "array([10, 12, 14, 16, 18, 20, 22, 24, 26, 28, 30, 32, 34, 36, 38, 40, 42,\n",
              "       44, 46, 48, 50])"
            ]
          },
          "execution_count": 6,
          "metadata": {},
          "output_type": "execute_result"
        }
      ],
      "source": [
        "# Expected output"
      ]
    },
    {
      "cell_type": "markdown",
      "metadata": {
        "id": "8OhFkP71E3Bc"
      },
      "source": [
        "#### 11. Create a 3x3 matrix with values ranging from 0 to 8"
      ]
    },
    {
      "cell_type": "code",
      "execution_count": null,
      "metadata": {
        "colab": {
          "base_uri": "https://localhost:8080/"
        },
        "collapsed": true,
        "id": "APZiupuXE3Be",
        "outputId": "825fb3f0-7065-4ed6-c285-321a58a05a10"
      },
      "outputs": [
        {
          "data": {
            "text/plain": [
              "array([[0, 1, 2],\n",
              "       [3, 4, 5],\n",
              "       [6, 7, 8]])"
            ]
          },
          "execution_count": 28,
          "metadata": {},
          "output_type": "execute_result"
        }
      ],
      "source": [
        "np.arange(0, 9).reshape(3, 3)"
      ]
    },
    {
      "cell_type": "code",
      "execution_count": null,
      "metadata": {
        "id": "2VpDokkhE3Be",
        "outputId": "e4803343-9cc9-4cd1-a010-071685e62c5f"
      },
      "outputs": [
        {
          "data": {
            "text/plain": [
              "array([[0, 1, 2],\n",
              "       [3, 4, 5],\n",
              "       [6, 7, 8]])"
            ]
          },
          "execution_count": 7,
          "metadata": {},
          "output_type": "execute_result"
        }
      ],
      "source": [
        "# Expected output"
      ]
    },
    {
      "cell_type": "markdown",
      "metadata": {
        "id": "f4ybYue7E3Bg"
      },
      "source": [
        "#### 12. Create a 3x3 identity matrix"
      ]
    },
    {
      "cell_type": "code",
      "execution_count": null,
      "metadata": {
        "colab": {
          "base_uri": "https://localhost:8080/"
        },
        "collapsed": true,
        "id": "7GWjKOUIE3Bi",
        "outputId": "1ddef65d-712a-4bfa-afbc-e772995b76fa"
      },
      "outputs": [
        {
          "name": "stdout",
          "output_type": "stream",
          "text": [
            "[[1. 0. 0.]\n",
            " [0. 1. 0.]\n",
            " [0. 0. 1.]]\n"
          ]
        }
      ],
      "source": [
        "id = np.zeros((3, 3))\n",
        "np.fill_diagonal(id, 1)\n",
        "print(id)"
      ]
    },
    {
      "cell_type": "code",
      "execution_count": null,
      "metadata": {
        "id": "-yygr2BIE3Bj",
        "outputId": "04283409-1e28-450f-d0e4-be45c27e732a"
      },
      "outputs": [
        {
          "data": {
            "text/plain": [
              "array([[1., 0., 0.],\n",
              "       [0., 1., 0.],\n",
              "       [0., 0., 1.]])"
            ]
          },
          "execution_count": 8,
          "metadata": {},
          "output_type": "execute_result"
        }
      ],
      "source": [
        "# Expected output"
      ]
    },
    {
      "cell_type": "markdown",
      "metadata": {
        "id": "2Lv2vt14Blnd"
      },
      "source": [
        "#### 13. Create a 5x5 matrix with values 1,2,3,4 just below the diagonal\n",
        "\n",
        "> Hint: [np.diag](https://numpy.org/doc/stable/reference/generated/numpy.diag.html)"
      ]
    },
    {
      "cell_type": "code",
      "execution_count": null,
      "metadata": {
        "colab": {
          "base_uri": "https://localhost:8080/"
        },
        "id": "5502QmG_Bl9B",
        "outputId": "d4c22b7b-1f78-4b0d-f2c2-a7f3b51e4770"
      },
      "outputs": [
        {
          "data": {
            "text/plain": [
              "array([[0, 0, 0, 0, 0],\n",
              "       [1, 0, 0, 0, 0],\n",
              "       [0, 2, 0, 0, 0],\n",
              "       [0, 0, 3, 0, 0],\n",
              "       [0, 0, 0, 4, 0]])"
            ]
          },
          "execution_count": 38,
          "metadata": {},
          "output_type": "execute_result"
        }
      ],
      "source": [
        "np.diag([1, 2, 3, 4], k = -1)"
      ]
    },
    {
      "cell_type": "code",
      "execution_count": null,
      "metadata": {
        "colab": {
          "base_uri": "https://localhost:8080/"
        },
        "id": "JFwXEtSFCedp",
        "outputId": "7b991ac1-e3a0-43b5-9bc0-5c86b051bac7"
      },
      "outputs": [
        {
          "data": {
            "text/plain": [
              "array([[0, 0, 0, 0, 0],\n",
              "       [1, 0, 0, 0, 0],\n",
              "       [0, 2, 0, 0, 0],\n",
              "       [0, 0, 3, 0, 0],\n",
              "       [0, 0, 0, 4, 0]])"
            ]
          },
          "execution_count": 22,
          "metadata": {},
          "output_type": "execute_result"
        }
      ],
      "source": [
        "# Expected output"
      ]
    },
    {
      "cell_type": "markdown",
      "metadata": {
        "id": "vncZ8OjmE3Bk"
      },
      "source": [
        "#### 14. Use NumPy to generate a random number between 0 and 1\n",
        "\n",
        "**Note**: Your result's value should be different from the one shown below."
      ]
    },
    {
      "cell_type": "code",
      "execution_count": null,
      "metadata": {
        "colab": {
          "base_uri": "https://localhost:8080/"
        },
        "collapsed": true,
        "id": "1Ha0bAioE3Bl",
        "outputId": "01ca3e06-b5c0-4072-e174-4fd58509c636"
      },
      "outputs": [
        {
          "data": {
            "text/plain": [
              "array([0.32607876])"
            ]
          },
          "execution_count": 43,
          "metadata": {},
          "output_type": "execute_result"
        }
      ],
      "source": [
        "np.random.normal(0, 1, 1)"
      ]
    },
    {
      "cell_type": "code",
      "execution_count": null,
      "metadata": {
        "id": "QsEWEcd7E3Bl",
        "outputId": "ed838451-65b8-493e-ef58-8fa0c9b4d09b"
      },
      "outputs": [
        {
          "data": {
            "text/plain": [
              "array([0.65248055])"
            ]
          },
          "execution_count": 9,
          "metadata": {},
          "output_type": "execute_result"
        }
      ],
      "source": [
        "# Expected output"
      ]
    },
    {
      "cell_type": "markdown",
      "metadata": {
        "id": "w_XXXzl5E3Bn"
      },
      "source": [
        "#### 15. Use NumPy to generate an array of 25 random numbers sampled from a standard normal distribution\n",
        "\n",
        "**Note**: Your result's values should be different from the ones shown below."
      ]
    },
    {
      "cell_type": "code",
      "execution_count": null,
      "metadata": {
        "colab": {
          "base_uri": "https://localhost:8080/"
        },
        "collapsed": true,
        "id": "7aLBnXpAE3Bo",
        "outputId": "172c7e0d-2b58-4f86-950b-54a6b26ac781"
      },
      "outputs": [
        {
          "data": {
            "text/plain": [
              "array([-1.20396832,  0.3291865 , -0.0434998 , -0.80233563, -2.456753  ,\n",
              "       -0.35633998, -0.09282402,  1.80673903,  1.5289614 , -0.41959613,\n",
              "       -0.07407034,  0.55582317, -0.54219383,  0.03480259, -0.38275321,\n",
              "        0.36025725,  0.44532519, -1.08919545, -0.26761473,  0.20661532,\n",
              "       -1.35181033, -0.74230003, -0.09619724,  0.40010924, -1.15861902])"
            ]
          },
          "execution_count": 46,
          "metadata": {},
          "output_type": "execute_result"
        }
      ],
      "source": [
        "np.random.normal(0, 1, 25)"
      ]
    },
    {
      "cell_type": "code",
      "execution_count": null,
      "metadata": {
        "id": "P_NpaqmcE3Bo",
        "outputId": "4a926b63-618e-45dd-b26d-57f15b5bd5b0"
      },
      "outputs": [
        {
          "data": {
            "text/plain": [
              "array([ 1.80076712, -1.12375847, -0.98524305,  0.11673573,  1.96346762,\n",
              "        1.81378592, -0.33790771,  0.85012656,  0.0100703 , -0.91005957,\n",
              "        0.29064366,  0.69906357,  0.1774377 , -0.61958694, -0.45498611,\n",
              "       -2.0804685 , -0.06778549,  1.06403819,  0.4311884 , -1.09853837,\n",
              "        1.11980469, -0.48751963,  1.32517611, -0.61775122, -0.00622865])"
            ]
          },
          "execution_count": 10,
          "metadata": {},
          "output_type": "execute_result"
        }
      ],
      "source": [
        "# Expected output"
      ]
    },
    {
      "cell_type": "markdown",
      "metadata": {
        "id": "P4gaaqiC-bpK"
      },
      "source": [
        "#### 16. Create a 3x3x3 array with random values drawn from the uniform distribution\n",
        "\n",
        "**Note**: Your result's values should be different from the ones shown below.\n"
      ]
    },
    {
      "cell_type": "code",
      "execution_count": null,
      "metadata": {
        "colab": {
          "base_uri": "https://localhost:8080/"
        },
        "id": "iPqIUnBsABK9",
        "outputId": "e5ace26f-9210-4dac-a549-f7093ae4b9d5"
      },
      "outputs": [
        {
          "data": {
            "text/plain": [
              "array([[[0.39325051, 0.8368565 , 0.50346396],\n",
              "        [0.83997348, 0.32225112, 0.47602076],\n",
              "        [0.20468407, 0.59120717, 0.52128337]],\n",
              "\n",
              "       [[0.05659684, 0.81398077, 0.40049795],\n",
              "        [0.98031332, 0.45963914, 0.46119804],\n",
              "        [0.74349216, 0.02282532, 0.81140827]],\n",
              "\n",
              "       [[0.47905685, 0.79081544, 0.9920465 ],\n",
              "        [0.01525542, 0.25207309, 0.05637488],\n",
              "        [0.10785703, 0.7521961 , 0.19722772]]])"
            ]
          },
          "execution_count": 47,
          "metadata": {},
          "output_type": "execute_result"
        }
      ],
      "source": [
        "np.random.random((3, 3, 3))"
      ]
    },
    {
      "cell_type": "code",
      "execution_count": null,
      "metadata": {
        "colab": {
          "base_uri": "https://localhost:8080/"
        },
        "id": "ZGdKczxo-cF4",
        "outputId": "c3d8b909-33c3-46ea-91ca-14e761830d74"
      },
      "outputs": [
        {
          "data": {
            "text/plain": [
              "array([[[0.93641099, 0.2920839 , 0.02292815],\n",
              "        [0.00336922, 0.86947306, 0.68416644],\n",
              "        [0.8901026 , 0.3837379 , 0.28653589]],\n",
              "\n",
              "       [[0.10726099, 0.43744832, 0.00470833],\n",
              "        [0.29069139, 0.64529908, 0.85020447],\n",
              "        [0.51284435, 0.41215324, 0.19622211]],\n",
              "\n",
              "       [[0.43004522, 0.92649706, 0.09472069],\n",
              "        [0.76510854, 0.49565729, 0.56232861],\n",
              "        [0.07813665, 0.49086324, 0.45172232]]])"
            ]
          },
          "execution_count": 13,
          "metadata": {},
          "output_type": "execute_result"
        }
      ],
      "source": [
        "# Expected output"
      ]
    },
    {
      "cell_type": "markdown",
      "metadata": {
        "id": "OINlYs2D_PhM"
      },
      "source": [
        "#### 17. Create a 10x10 array with random values drawn from the uniform distribution and find the minimum and maximum values.\n",
        "\n",
        "**Note**: Your result's values should be different from the ones shown below."
      ]
    },
    {
      "cell_type": "code",
      "execution_count": null,
      "metadata": {
        "colab": {
          "base_uri": "https://localhost:8080/"
        },
        "id": "76ygftSiAIOw",
        "outputId": "f1ff1f67-826c-4677-ca57-6600f95efad8"
      },
      "outputs": [
        {
          "data": {
            "text/plain": [
              "(0.9702482376973613, 0.0067486128372235)"
            ]
          },
          "execution_count": 54,
          "metadata": {},
          "output_type": "execute_result"
        }
      ],
      "source": [
        "random_matrix = np.random.random((10, 10))\n",
        "np.ndarray.max(random_matrix), np.ndarray.min(random_matrix)"
      ]
    },
    {
      "cell_type": "code",
      "execution_count": null,
      "metadata": {
        "colab": {
          "base_uri": "https://localhost:8080/"
        },
        "id": "VjK7Pa8L_P4x",
        "outputId": "bdb065d1-b1e4-4ab4-d31a-df8cd57228b6"
      },
      "outputs": [
        {
          "name": "stdout",
          "output_type": "stream",
          "text": [
            "The array: [[0.19932859 0.92905065 0.55492647 0.09878608 0.0421074  0.74219358\n",
            "  0.92844055 0.62528946 0.35357668 0.88013918]\n",
            " [0.36971412 0.74932736 0.02445995 0.72873717 0.48864481 0.14421664\n",
            "  0.56846658 0.40363749 0.3233466  0.95147426]\n",
            " [0.98339368 0.39612436 0.03609193 0.10611245 0.1410213  0.21099682\n",
            "  0.3285783  0.39140252 0.88863881 0.81498748]\n",
            " [0.25423077 0.0756975  0.77587885 0.29315387 0.56795003 0.90145549\n",
            "  0.95278316 0.63800115 0.14696466 0.08528442]\n",
            " [0.08048731 0.55554534 0.21157669 0.37491896 0.95567126 0.72478012\n",
            "  0.64849367 0.05571253 0.12339177 0.95575902]\n",
            " [0.90842177 0.74316806 0.61710506 0.05885491 0.88051201 0.86814746\n",
            "  0.26131788 0.89392307 0.45475956 0.26810516]\n",
            " [0.79185601 0.19973093 0.10674687 0.9080987  0.50335231 0.17405093\n",
            "  0.39030326 0.48112173 0.74450033 0.76288692]\n",
            " [0.68992283 0.52305591 0.94364282 0.623963   0.04065964 0.23544532\n",
            "  0.38685327 0.9687442  0.529897   0.37273771]\n",
            " [0.88262217 0.90518014 0.24570464 0.49601259 0.23893452 0.53227759\n",
            "  0.15011176 0.4220435  0.5659132  0.43023606]\n",
            " [0.56022726 0.19848063 0.62839598 0.95187828 0.40088324 0.06377018\n",
            "  0.48083585 0.5822991  0.1836432  0.58293494]]\n",
            "Its min value: 0.02445995358839448\n",
            "Its max value: 0.9833936778670438\n"
          ]
        }
      ],
      "source": [
        "# Expected output"
      ]
    },
    {
      "cell_type": "markdown",
      "metadata": {
        "id": "mC5EsyskAPlI"
      },
      "source": [
        "#### 18. Create a random array with values drawn from the uniform distribution of size 30 and find the mean value"
      ]
    },
    {
      "cell_type": "code",
      "execution_count": 4,
      "metadata": {
        "colab": {
          "base_uri": "https://localhost:8080/"
        },
        "id": "sPpFp0cCAucB",
        "outputId": "73a83378-8cda-4f3b-a3ac-6d250d795ded"
      },
      "outputs": [
        {
          "data": {
            "text/plain": [
              "0.5149899714246283"
            ]
          },
          "execution_count": 4,
          "metadata": {},
          "output_type": "execute_result"
        }
      ],
      "source": [
        "arr = np.random.uniform(0, 1, 30)\n",
        "np.mean(arr)"
      ]
    },
    {
      "cell_type": "code",
      "execution_count": null,
      "metadata": {
        "colab": {
          "base_uri": "https://localhost:8080/"
        },
        "id": "lhWXYE86AQH4",
        "outputId": "b068e7a3-cc01-447a-dafe-7a068ab94e73"
      },
      "outputs": [
        {
          "name": "stdout",
          "output_type": "stream",
          "text": [
            "The array: [0.65580703 0.66012918 0.44607318 0.08230611 0.03965247 0.98197551\n",
            " 0.07286258 0.08288793 0.5283879  0.26948948 0.29579988 0.44204416\n",
            " 0.42570657 0.74707057 0.96866384 0.96437312 0.38116077 0.74621085\n",
            " 0.26497925 0.33115365 0.963408   0.05087827 0.36557266 0.66121816\n",
            " 0.24851936 0.25971588 0.40104167 0.90926914 0.80488701 0.31365462]\n",
            "Its mean: 0.4788299599451823\n"
          ]
        }
      ],
      "source": [
        "# Expected output"
      ]
    },
    {
      "cell_type": "markdown",
      "metadata": {
        "id": "X36sKsquE3Bq"
      },
      "source": [
        "#### 19. Create the following matrix:"
      ]
    },
    {
      "cell_type": "code",
      "execution_count": 11,
      "metadata": {
        "colab": {
          "base_uri": "https://localhost:8080/"
        },
        "collapsed": true,
        "id": "A3NSaVKWE3Bq",
        "outputId": "f7f5d501-7364-466d-a9ab-ae916135f4e9"
      },
      "outputs": [
        {
          "data": {
            "text/plain": [
              "array([[0.01, 0.02, 0.03, 0.04, 0.05, 0.06, 0.07, 0.08, 0.09, 0.1 ],\n",
              "       [0.11, 0.12, 0.13, 0.14, 0.15, 0.16, 0.17, 0.18, 0.19, 0.2 ],\n",
              "       [0.21, 0.22, 0.23, 0.24, 0.25, 0.26, 0.27, 0.28, 0.29, 0.3 ],\n",
              "       [0.31, 0.32, 0.33, 0.34, 0.35, 0.36, 0.37, 0.38, 0.39, 0.4 ],\n",
              "       [0.41, 0.42, 0.43, 0.44, 0.45, 0.46, 0.47, 0.48, 0.49, 0.5 ],\n",
              "       [0.51, 0.52, 0.53, 0.54, 0.55, 0.56, 0.57, 0.58, 0.59, 0.6 ],\n",
              "       [0.61, 0.62, 0.63, 0.64, 0.65, 0.66, 0.67, 0.68, 0.69, 0.7 ],\n",
              "       [0.71, 0.72, 0.73, 0.74, 0.75, 0.76, 0.77, 0.78, 0.79, 0.8 ],\n",
              "       [0.81, 0.82, 0.83, 0.84, 0.85, 0.86, 0.87, 0.88, 0.89, 0.9 ],\n",
              "       [0.91, 0.92, 0.93, 0.94, 0.95, 0.96, 0.97, 0.98, 0.99, 1.  ]])"
            ]
          },
          "execution_count": 11,
          "metadata": {},
          "output_type": "execute_result"
        }
      ],
      "source": [
        "np.linspace(0.01, 1, 100).reshape((10, 10))"
      ]
    },
    {
      "cell_type": "code",
      "execution_count": null,
      "metadata": {
        "id": "ZF6R_G0jE3Bs",
        "outputId": "1c46a6e7-6cf9-41b3-da7b-ecc2c99a6bc1"
      },
      "outputs": [
        {
          "data": {
            "text/plain": [
              "array([[0.01, 0.02, 0.03, 0.04, 0.05, 0.06, 0.07, 0.08, 0.09, 0.1 ],\n",
              "       [0.11, 0.12, 0.13, 0.14, 0.15, 0.16, 0.17, 0.18, 0.19, 0.2 ],\n",
              "       [0.21, 0.22, 0.23, 0.24, 0.25, 0.26, 0.27, 0.28, 0.29, 0.3 ],\n",
              "       [0.31, 0.32, 0.33, 0.34, 0.35, 0.36, 0.37, 0.38, 0.39, 0.4 ],\n",
              "       [0.41, 0.42, 0.43, 0.44, 0.45, 0.46, 0.47, 0.48, 0.49, 0.5 ],\n",
              "       [0.51, 0.52, 0.53, 0.54, 0.55, 0.56, 0.57, 0.58, 0.59, 0.6 ],\n",
              "       [0.61, 0.62, 0.63, 0.64, 0.65, 0.66, 0.67, 0.68, 0.69, 0.7 ],\n",
              "       [0.71, 0.72, 0.73, 0.74, 0.75, 0.76, 0.77, 0.78, 0.79, 0.8 ],\n",
              "       [0.81, 0.82, 0.83, 0.84, 0.85, 0.86, 0.87, 0.88, 0.89, 0.9 ],\n",
              "       [0.91, 0.92, 0.93, 0.94, 0.95, 0.96, 0.97, 0.98, 0.99, 1.  ]])"
            ]
          },
          "execution_count": 11,
          "metadata": {},
          "output_type": "execute_result"
        }
      ],
      "source": [
        "# Expected output"
      ]
    },
    {
      "cell_type": "markdown",
      "metadata": {
        "id": "v4i505LCE3Bt"
      },
      "source": [
        "#### 20. Create an array of 20 linearly spaced points between 0 and 1:"
      ]
    },
    {
      "cell_type": "code",
      "execution_count": 8,
      "metadata": {
        "colab": {
          "base_uri": "https://localhost:8080/"
        },
        "collapsed": true,
        "id": "k1JSLEruE3Bv",
        "outputId": "11ce1542-6727-4ae5-e769-28593ffb2a7b"
      },
      "outputs": [
        {
          "data": {
            "text/plain": [
              "array([0.        , 0.05263158, 0.10526316, 0.15789474, 0.21052632,\n",
              "       0.26315789, 0.31578947, 0.36842105, 0.42105263, 0.47368421,\n",
              "       0.52631579, 0.57894737, 0.63157895, 0.68421053, 0.73684211,\n",
              "       0.78947368, 0.84210526, 0.89473684, 0.94736842, 1.        ])"
            ]
          },
          "execution_count": 8,
          "metadata": {},
          "output_type": "execute_result"
        }
      ],
      "source": [
        "np.linspace(0, 1, 20)"
      ]
    },
    {
      "cell_type": "code",
      "execution_count": null,
      "metadata": {
        "id": "FqIbXWycE3Bv",
        "outputId": "0b78c58d-23e3-42e0-aadb-7697956a76d6"
      },
      "outputs": [
        {
          "data": {
            "text/plain": [
              "array([0.        , 0.05263158, 0.10526316, 0.15789474, 0.21052632,\n",
              "       0.26315789, 0.31578947, 0.36842105, 0.42105263, 0.47368421,\n",
              "       0.52631579, 0.57894737, 0.63157895, 0.68421053, 0.73684211,\n",
              "       0.78947368, 0.84210526, 0.89473684, 0.94736842, 1.        ])"
            ]
          },
          "execution_count": 12,
          "metadata": {},
          "output_type": "execute_result"
        }
      ],
      "source": [
        "# Expected output"
      ]
    },
    {
      "cell_type": "markdown",
      "metadata": {
        "id": "csV1F6E-E3Bx"
      },
      "source": [
        "## Numpy Indexing and Selection\n",
        "\n",
        "Now you will be given a starting matrix (be sure to run the cell below!), and be asked to replicate the resulting matrix outputs.\n",
        "\n",
        "In all of the solutions until the last task before the section `NumPy Operations` you should be using `mat`."
      ]
    },
    {
      "cell_type": "code",
      "execution_count": 12,
      "metadata": {
        "colab": {
          "base_uri": "https://localhost:8080/"
        },
        "id": "PdQlEg3iE3By",
        "outputId": "40bdcd00-1f3c-4fa3-ddb0-af3c76f702e7"
      },
      "outputs": [
        {
          "data": {
            "text/plain": [
              "array([[ 1,  2,  3,  4,  5],\n",
              "       [ 6,  7,  8,  9, 10],\n",
              "       [11, 12, 13, 14, 15],\n",
              "       [16, 17, 18, 19, 20],\n",
              "       [21, 22, 23, 24, 25]])"
            ]
          },
          "execution_count": 12,
          "metadata": {},
          "output_type": "execute_result"
        }
      ],
      "source": [
        "# RUN THIS CELL - THIS IS OUR STARTING MATRIX\n",
        "mat = np.arange(1,26).reshape(5,5)\n",
        "mat"
      ]
    },
    {
      "cell_type": "markdown",
      "metadata": {
        "id": "1UQ2DawgE3B0"
      },
      "source": [
        "#### 21. Write code that reproduces the output shown below."
      ]
    },
    {
      "cell_type": "code",
      "execution_count": 13,
      "metadata": {
        "colab": {
          "base_uri": "https://localhost:8080/"
        },
        "collapsed": true,
        "id": "lbP6w7AnE3B1",
        "outputId": "e70235ce-5abc-4577-ddea-143e453cc36f"
      },
      "outputs": [
        {
          "data": {
            "text/plain": [
              "array([[12, 13, 14, 15],\n",
              "       [17, 18, 19, 20],\n",
              "       [22, 23, 24, 25]])"
            ]
          },
          "execution_count": 13,
          "metadata": {},
          "output_type": "execute_result"
        }
      ],
      "source": [
        "# CODE HERE\n",
        "mat[2:, 1:]"
      ]
    },
    {
      "cell_type": "code",
      "execution_count": null,
      "metadata": {
        "id": "k7yDnnYOE3B2",
        "outputId": "454d330c-7f19-4f4a-d71b-7e1302c97936"
      },
      "outputs": [
        {
          "data": {
            "text/plain": [
              "array([[12, 13, 14, 15],\n",
              "       [17, 18, 19, 20],\n",
              "       [22, 23, 24, 25]])"
            ]
          },
          "execution_count": 14,
          "metadata": {},
          "output_type": "execute_result"
        }
      ],
      "source": [
        "# Expected output"
      ]
    },
    {
      "cell_type": "markdown",
      "metadata": {
        "id": "PfjoGK7hE3B3"
      },
      "source": [
        "#### 22. Write code that reproduces the output shown below."
      ]
    },
    {
      "cell_type": "code",
      "execution_count": 15,
      "metadata": {
        "colab": {
          "base_uri": "https://localhost:8080/"
        },
        "collapsed": true,
        "id": "L7S7zJVFE3B4",
        "outputId": "6670237a-8d9d-4434-95da-6b405517218c"
      },
      "outputs": [
        {
          "data": {
            "text/plain": [
              "20"
            ]
          },
          "execution_count": 15,
          "metadata": {},
          "output_type": "execute_result"
        }
      ],
      "source": [
        "mat[3, 4]"
      ]
    },
    {
      "cell_type": "code",
      "execution_count": null,
      "metadata": {
        "id": "Xq0kG2LSE3B4",
        "outputId": "3a10c27b-fb61-402b-f634-7b91e297b5a3"
      },
      "outputs": [
        {
          "data": {
            "text/plain": [
              "20"
            ]
          },
          "execution_count": 15,
          "metadata": {},
          "output_type": "execute_result"
        }
      ],
      "source": [
        "# Expected output"
      ]
    },
    {
      "cell_type": "markdown",
      "metadata": {
        "id": "FDGGhOykE3B6"
      },
      "source": [
        "#### 23. Write code that reproduces the output shown below."
      ]
    },
    {
      "cell_type": "code",
      "execution_count": 19,
      "metadata": {
        "colab": {
          "base_uri": "https://localhost:8080/"
        },
        "collapsed": true,
        "id": "ntcx9bhaE3B7",
        "outputId": "67bf0f19-37bd-4d65-d859-2bcf8377fa60"
      },
      "outputs": [
        {
          "data": {
            "text/plain": [
              "array([[ 2],\n",
              "       [ 7],\n",
              "       [12]])"
            ]
          },
          "execution_count": 19,
          "metadata": {},
          "output_type": "execute_result"
        }
      ],
      "source": [
        "mat[0:3, 1:2]"
      ]
    },
    {
      "cell_type": "code",
      "execution_count": null,
      "metadata": {
        "id": "NA5nV-usE3B8",
        "outputId": "b5f50c96-af45-4f76-e6f6-10a92cd6dce2"
      },
      "outputs": [
        {
          "data": {
            "text/plain": [
              "array([[ 2],\n",
              "       [ 7],\n",
              "       [12]])"
            ]
          },
          "execution_count": 16,
          "metadata": {},
          "output_type": "execute_result"
        }
      ],
      "source": [
        "# Expected output"
      ]
    },
    {
      "cell_type": "markdown",
      "metadata": {
        "id": "rAcP8GMWE3B9"
      },
      "source": [
        "#### 24. Write code that reproduces the output shown below."
      ]
    },
    {
      "cell_type": "code",
      "execution_count": 20,
      "metadata": {
        "colab": {
          "base_uri": "https://localhost:8080/"
        },
        "collapsed": true,
        "id": "j6zjzGGhE3B-",
        "outputId": "e11e60fb-7553-4dbf-95ed-338a9dd5a6f1"
      },
      "outputs": [
        {
          "data": {
            "text/plain": [
              "array([21, 22, 23, 24, 25])"
            ]
          },
          "execution_count": 20,
          "metadata": {},
          "output_type": "execute_result"
        }
      ],
      "source": [
        "mat[4]"
      ]
    },
    {
      "cell_type": "code",
      "execution_count": null,
      "metadata": {
        "id": "0lLgHznHE3B_",
        "outputId": "459dbdea-c57b-4287-81ba-5656856de2f3"
      },
      "outputs": [
        {
          "data": {
            "text/plain": [
              "array([21, 22, 23, 24, 25])"
            ]
          },
          "execution_count": 17,
          "metadata": {},
          "output_type": "execute_result"
        }
      ],
      "source": [
        "# Expected output"
      ]
    },
    {
      "cell_type": "markdown",
      "metadata": {
        "id": "kpBFT2DiE3CA"
      },
      "source": [
        "#### 25. Write code that reproduces the output shown below."
      ]
    },
    {
      "cell_type": "code",
      "execution_count": 21,
      "metadata": {
        "colab": {
          "base_uri": "https://localhost:8080/"
        },
        "collapsed": true,
        "id": "PrsdPgj5E3CC",
        "outputId": "5285b6f0-6682-484a-be21-cafdef0e75b5"
      },
      "outputs": [
        {
          "data": {
            "text/plain": [
              "array([[16, 17, 18, 19, 20],\n",
              "       [21, 22, 23, 24, 25]])"
            ]
          },
          "execution_count": 21,
          "metadata": {},
          "output_type": "execute_result"
        }
      ],
      "source": [
        "mat[3:]"
      ]
    },
    {
      "cell_type": "code",
      "execution_count": null,
      "metadata": {
        "id": "GHENKrGbE3CC",
        "outputId": "c26c1648-a148-428e-ebc8-c4f9fa754eef"
      },
      "outputs": [
        {
          "data": {
            "text/plain": [
              "array([[16, 17, 18, 19, 20],\n",
              "       [21, 22, 23, 24, 25]])"
            ]
          },
          "execution_count": 18,
          "metadata": {},
          "output_type": "execute_result"
        }
      ],
      "source": [
        "# Expected output"
      ]
    },
    {
      "cell_type": "markdown",
      "metadata": {
        "id": "nlDu5ole9TTX"
      },
      "source": [
        "#### 26. Find the indices of the non-zero elements in the provided array."
      ]
    },
    {
      "cell_type": "code",
      "execution_count": 22,
      "metadata": {
        "colab": {
          "base_uri": "https://localhost:8080/"
        },
        "id": "qIKAFdeH-MvF",
        "outputId": "e05aa97c-d050-4b57-aceb-f1a53add4cd3"
      },
      "outputs": [
        {
          "data": {
            "text/plain": [
              "(array([0, 1, 4]),)"
            ]
          },
          "execution_count": 22,
          "metadata": {},
          "output_type": "execute_result"
        }
      ],
      "source": [
        "arr = np.array([1,2,0,0,4,0])\n",
        "np.nonzero(arr)\n",
        "# Your code here"
      ]
    },
    {
      "cell_type": "code",
      "execution_count": null,
      "metadata": {
        "colab": {
          "base_uri": "https://localhost:8080/"
        },
        "id": "es-2pZGJ9S9q",
        "outputId": "5e9c24e7-0eee-4d6a-bff7-98ba12b82cac"
      },
      "outputs": [
        {
          "data": {
            "text/plain": [
              "array([0, 1, 4])"
            ]
          },
          "execution_count": 12,
          "metadata": {},
          "output_type": "execute_result"
        }
      ],
      "source": [
        "# Expected output"
      ]
    },
    {
      "cell_type": "markdown",
      "metadata": {
        "id": "2f7W_x-3E3CD"
      },
      "source": [
        "## NumPy Operations"
      ]
    },
    {
      "cell_type": "markdown",
      "metadata": {
        "id": "fmax4qmCE3CE"
      },
      "source": [
        "#### 27. Get the sum of all the values in mat"
      ]
    },
    {
      "cell_type": "code",
      "execution_count": 23,
      "metadata": {
        "colab": {
          "base_uri": "https://localhost:8080/"
        },
        "collapsed": true,
        "id": "lccBg-WKE3CE",
        "outputId": "e4d08bc4-23cc-402e-fb11-83748f23c2dc"
      },
      "outputs": [
        {
          "data": {
            "text/plain": [
              "325"
            ]
          },
          "execution_count": 23,
          "metadata": {},
          "output_type": "execute_result"
        }
      ],
      "source": [
        "np.sum(mat)"
      ]
    },
    {
      "cell_type": "code",
      "execution_count": null,
      "metadata": {
        "id": "G1lomhQEE3CF",
        "outputId": "eb404717-16e8-4ad4-9de2-0aaea05eaba2"
      },
      "outputs": [
        {
          "data": {
            "text/plain": [
              "325"
            ]
          },
          "execution_count": 19,
          "metadata": {},
          "output_type": "execute_result"
        }
      ],
      "source": [
        "# Expected output"
      ]
    },
    {
      "cell_type": "markdown",
      "metadata": {
        "id": "PY8nzRaFE3CG"
      },
      "source": [
        "#### 28. Get the standard deviation of the values in mat"
      ]
    },
    {
      "cell_type": "code",
      "execution_count": 24,
      "metadata": {
        "colab": {
          "base_uri": "https://localhost:8080/"
        },
        "collapsed": true,
        "id": "WZzuJOiTE3CG",
        "outputId": "470687b5-5ea5-466b-8345-c3c4aafe6aa7"
      },
      "outputs": [
        {
          "data": {
            "text/plain": [
              "7.211102550927978"
            ]
          },
          "execution_count": 24,
          "metadata": {},
          "output_type": "execute_result"
        }
      ],
      "source": [
        "np.std(mat)"
      ]
    },
    {
      "cell_type": "code",
      "execution_count": null,
      "metadata": {
        "id": "9u7MXt1OE3CH",
        "outputId": "4418b06b-d4f4-4122-cc23-1ccc80591aa0"
      },
      "outputs": [
        {
          "data": {
            "text/plain": [
              "7.211102550927978"
            ]
          },
          "execution_count": 20,
          "metadata": {},
          "output_type": "execute_result"
        }
      ],
      "source": [
        "# Expected output"
      ]
    },
    {
      "cell_type": "markdown",
      "metadata": {
        "id": "QtedOQUgE3CH"
      },
      "source": [
        "#### 29. Get the sum of all the columns in mat"
      ]
    },
    {
      "cell_type": "code",
      "execution_count": 26,
      "metadata": {
        "colab": {
          "base_uri": "https://localhost:8080/"
        },
        "collapsed": true,
        "id": "igq6F-SLE3CI",
        "outputId": "8058f107-15d3-40ce-edd1-95326ef0ab0b"
      },
      "outputs": [
        {
          "data": {
            "text/plain": [
              "array([55, 60, 65, 70, 75])"
            ]
          },
          "execution_count": 26,
          "metadata": {},
          "output_type": "execute_result"
        }
      ],
      "source": [
        "np.sum(mat, axis=0)"
      ]
    },
    {
      "cell_type": "code",
      "execution_count": null,
      "metadata": {
        "id": "mbCsLwxQE3CI",
        "outputId": "74ecfae7-202b-49f1-e46b-d3d59509d741"
      },
      "outputs": [
        {
          "data": {
            "text/plain": [
              "array([55, 60, 65, 70, 75])"
            ]
          },
          "execution_count": 21,
          "metadata": {},
          "output_type": "execute_result"
        }
      ],
      "source": [
        "# Expected output"
      ]
    },
    {
      "cell_type": "markdown",
      "metadata": {
        "id": "knccxXSODH0R"
      },
      "source": [
        "#### 30. Create and multiply a 5x3 matrix by a 3x2 matrix (matrix product). The matrices can hold random values or you can create them manually.\n",
        "\n",
        "**Note**: In this example output the matrices held random values, so your result's values should be different from the ones shown below."
      ]
    },
    {
      "cell_type": "code",
      "execution_count": 29,
      "metadata": {
        "colab": {
          "base_uri": "https://localhost:8080/"
        },
        "id": "mwk8LrjmDi2x",
        "outputId": "b1bbe3ad-9a48-4d07-db02-23a5491be61f"
      },
      "outputs": [
        {
          "data": {
            "text/plain": [
              "array([[ 87.25651831,  69.88006989],\n",
              "       [ 78.05002638,  73.58544106],\n",
              "       [105.00559435,  83.47604808],\n",
              "       [123.43871309, 100.50255524],\n",
              "       [ 54.03042647,  46.14978366]])"
            ]
          },
          "execution_count": 29,
          "metadata": {},
          "output_type": "execute_result"
        }
      ],
      "source": [
        "m1 = np.random.uniform(0, 10, 15).reshape((5, 3))\n",
        "m2 = np.random.uniform(0, 10, 6).reshape((3, 2))\n",
        "np.matmul(m1, m2)"
      ]
    },
    {
      "cell_type": "code",
      "execution_count": null,
      "metadata": {
        "colab": {
          "base_uri": "https://localhost:8080/"
        },
        "id": "hNFX0eGVwtj_",
        "outputId": "23433f06-8d4e-472a-caeb-793243d1f0dc"
      },
      "outputs": [
        {
          "data": {
            "text/plain": [
              "array([[0.92284566, 0.4834381 ],\n",
              "       [1.36591969, 0.86692985],\n",
              "       [0.92732258, 0.57791729],\n",
              "       [1.20870496, 0.66362074],\n",
              "       [1.48551291, 0.86352205]])"
            ]
          },
          "execution_count": 191,
          "metadata": {},
          "output_type": "execute_result"
        }
      ],
      "source": [
        "# Expected output"
      ]
    },
    {
      "cell_type": "markdown",
      "metadata": {
        "id": "vZO-9cRnDoTk"
      },
      "source": [
        "#### 31. Create a 1D array of random integers between 0 and 9. Negate all elements which are between 3 and 8."
      ]
    },
    {
      "cell_type": "code",
      "execution_count": 40,
      "metadata": {
        "colab": {
          "base_uri": "https://localhost:8080/"
        },
        "id": "cgo1ooJKDwPN",
        "outputId": "ef6b8511-138a-4cbb-ca6a-3bad23195b72"
      },
      "outputs": [
        {
          "data": {
            "text/plain": [
              "array([-5, -8, -4,  0,  0, -2, -7,  0,  0, -7, -2, -2, -7, -3, -2, -6, -6,\n",
              "        0, -4,  0])"
            ]
          },
          "execution_count": 40,
          "metadata": {},
          "output_type": "execute_result"
        }
      ],
      "source": [
        "arr = np.random.randint(0, 9, 20)\n",
        "arr[(arr >= 3 )| (arr <= 8)] *= -1\n",
        "arr"
      ]
    },
    {
      "cell_type": "code",
      "execution_count": null,
      "metadata": {
        "colab": {
          "base_uri": "https://localhost:8080/"
        },
        "id": "M9IQNbmJwzah",
        "outputId": "c1980b73-1ce0-4434-9e89-5f14e8329706"
      },
      "outputs": [
        {
          "data": {
            "text/plain": [
              "array([ 4,  2,  5, -7, -2,  0, -3, -6, -8,  4])"
            ]
          },
          "execution_count": 192,
          "metadata": {},
          "output_type": "execute_result"
        }
      ],
      "source": [
        "# Expected output"
      ]
    },
    {
      "cell_type": "markdown",
      "metadata": {
        "id": "Lf8-CAmxD0V6"
      },
      "source": [
        "#### 32. Create a random array of size 10 and sort it"
      ]
    },
    {
      "cell_type": "code",
      "execution_count": 42,
      "metadata": {
        "colab": {
          "base_uri": "https://localhost:8080/"
        },
        "id": "5lgEf77_D5Se",
        "outputId": "9a914f43-0d38-42b8-d26c-92f66d9efdad"
      },
      "outputs": [
        {
          "data": {
            "text/plain": [
              "array([2, 2, 3, 4, 4, 5, 5, 6, 7, 8])"
            ]
          },
          "execution_count": 42,
          "metadata": {},
          "output_type": "execute_result"
        }
      ],
      "source": [
        "arr = np.random.randint(0, 10, 10)\n",
        "arr = np.sort(arr)\n",
        "arr"
      ]
    },
    {
      "cell_type": "code",
      "execution_count": null,
      "metadata": {
        "colab": {
          "base_uri": "https://localhost:8080/"
        },
        "id": "ufEMUrNmxPRX",
        "outputId": "e3f772c4-f6d2-4fb5-c826-539bbeba2a75"
      },
      "outputs": [
        {
          "data": {
            "text/plain": [
              "array([0.21557229, 0.29775351, 0.31513898, 0.48094387, 0.56395818,\n",
              "       0.61094507, 0.65782361, 0.73666887, 0.74573749, 0.97557176])"
            ]
          },
          "execution_count": 193,
          "metadata": {},
          "output_type": "execute_result"
        }
      ],
      "source": [
        "# Expected output"
      ]
    },
    {
      "cell_type": "markdown",
      "metadata": {
        "id": "Lbp-tG24D9Qd"
      },
      "source": [
        "#### 33. Create random vector of values drawn from the uniform distribution of size 10 and replace the maximum value by 0"
      ]
    },
    {
      "cell_type": "code",
      "execution_count": 45,
      "metadata": {
        "colab": {
          "base_uri": "https://localhost:8080/"
        },
        "id": "PIMnLXk_EDIU",
        "outputId": "b8025026-3e36-48a4-aaf5-7c0bb1412d7a"
      },
      "outputs": [
        {
          "data": {
            "text/plain": [
              "array([0.0854155 , 0.43085315, 0.10683841, 0.07525426, 0.        ,\n",
              "       0.664455  , 0.55778053, 0.25226554, 0.53596394, 0.3110222 ])"
            ]
          },
          "execution_count": 45,
          "metadata": {},
          "output_type": "execute_result"
        }
      ],
      "source": [
        "arr = np.random.uniform(0, 1, 10)\n",
        "arr[np.argmax(arr)] = 0\n",
        "arr"
      ]
    },
    {
      "cell_type": "code",
      "execution_count": null,
      "metadata": {
        "colab": {
          "base_uri": "https://localhost:8080/"
        },
        "id": "FOdlAkmSEVMf",
        "outputId": "b7ecf9b9-533d-4a56-c028-328d324fdf9e"
      },
      "outputs": [
        {
          "name": "stdout",
          "output_type": "stream",
          "text": [
            "The array: [0.79753115 0.51085823 0.86710259 0.25025854 0.39803838 0.65002613\n",
            " 0.89686752 0.1562022  0.76741728 0.62775096]\n",
            "Result: [0.79753115 0.51085823 0.86710259 0.25025854 0.39803838 0.65002613\n",
            " 0.         0.1562022  0.76741728 0.62775096]\n"
          ]
        }
      ],
      "source": [
        "# Expected output"
      ]
    },
    {
      "cell_type": "markdown",
      "metadata": {
        "id": "1McMRiqA1SFM"
      },
      "source": [
        "#### 34. What function can we use to ensure that we always get the same random numbers?\n",
        "\n",
        "> **Your answer**: numpy.random.seed(x)\n"
      ]
    }
  ],
  "metadata": {
    "anaconda-cloud": {},
    "colab": {
      "provenance": [],
      "toc_visible": true
    },
    "kernelspec": {
      "display_name": "Python 3.8.10 64-bit",
      "language": "python",
      "name": "python3"
    },
    "language_info": {
      "codemirror_mode": {
        "name": "ipython",
        "version": 3
      },
      "file_extension": ".py",
      "mimetype": "text/x-python",
      "name": "python",
      "nbconvert_exporter": "python",
      "pygments_lexer": "ipython3",
      "version": "3.10.12"
    },
    "vscode": {
      "interpreter": {
        "hash": "31f2aee4e71d21fbe5cf8b01ff0e069b9275f58929596ceb00d14d90e3e16cd6"
      }
    }
  },
  "nbformat": 4,
  "nbformat_minor": 0
}
